{
 "cells": [
  {
   "metadata": {},
   "cell_type": "markdown",
   "source": [
    "# Housing prices for King County\n",
    "\n",
    "Training a simple polynomial model on Hosing Sale data from king country [data source](https://www.kaggle.com/datasets/harlfoxem/housesalesprediction)\n",
    "As a learning exercise"
   ],
   "id": "8a77807f92f26ee"
  },
  {
   "metadata": {
    "ExecuteTime": {
     "end_time": "2025-02-04T22:36:22.253109Z",
     "start_time": "2025-02-04T22:36:21.960278Z"
    }
   },
   "cell_type": "code",
   "source": [
    "from utils import load_data\n",
    "from train import compute_cost, compute_gradient, gradient_descent\n",
    "from matplotlib import pyplot as plt\n",
    "import numpy as np\n",
    "import pandas as pd\n",
    "# Data is a pandas DataFrame\n",
    "data = load_data.load_data(\"./data/kc_house_data.csv\")\n"
   ],
   "id": "fbc121e30a2defb3",
   "outputs": [],
   "execution_count": 2
  },
  {
   "metadata": {},
   "cell_type": "markdown",
   "source": [
    "# Feature Engineering\n",
    "Housing prices do not tend to be linear but curve like, thus we will be engineering some polynomial features"
   ],
   "id": "c0b5cece06f2f50e"
  },
  {
   "metadata": {
    "ExecuteTime": {
     "end_time": "2025-02-04T22:36:23.654272Z",
     "start_time": "2025-02-04T22:36:23.638803Z"
    }
   },
   "cell_type": "code",
   "source": [
    "labels = data['price']\n",
    "data.drop(['price', 'date', 'id', 'lat', 'long'], axis=1, inplace=True)\n",
    "dataSquared = data.pow(2)\n",
    "dataSquared.rename(lambda c: f\"{c} squared\", inplace=True, axis='columns')\n",
    "\n",
    "dataCubed = data.pow(3)\n",
    "dataCubed.rename(lambda c: f\"{c} cubed\", inplace=True, axis='columns')\n",
    "\n",
    "engineeredData = data.join(dataSquared).join(dataCubed)\n",
    "\n",
    "engineeredData[0:5]"
   ],
   "id": "5fb51494d8c0f93e",
   "outputs": [
    {
     "data": {
      "text/plain": [
       "   bedrooms  bathrooms  sqft_living  sqft_lot  floors  waterfront  view  \\\n",
       "0         3       1.00         1180      5650     1.0           0     0   \n",
       "1         3       2.25         2570      7242     2.0           0     0   \n",
       "2         2       1.00          770     10000     1.0           0     0   \n",
       "3         4       3.00         1960      5000     1.0           0     0   \n",
       "4         3       2.00         1680      8080     1.0           0     0   \n",
       "\n",
       "   condition  grade  sqft_above  ...  view cubed  condition cubed  \\\n",
       "0          3      7        1180  ...           0               27   \n",
       "1          3      7        2170  ...           0               27   \n",
       "2          3      6         770  ...           0               27   \n",
       "3          5      7        1050  ...           0              125   \n",
       "4          3      8        1680  ...           0               27   \n",
       "\n",
       "   grade cubed  sqft_above cubed  sqft_basement cubed  yr_built cubed  \\\n",
       "0          343        1643032000                    0      7472058875   \n",
       "1          343       10218313000             64000000      7426288351   \n",
       "2          216         456533000                    0      7222633237   \n",
       "3          343        1157625000            753571000      7587307125   \n",
       "4          512        4741632000                    0      7845011803   \n",
       "\n",
       "   yr_renovated cubed    zipcode cubed  sqft_living15 cubed  sqft_lot15 cubed  \n",
       "0                   0  946329856735752           2406104000      180362125000  \n",
       "1          7892485271  944798095703125           4826809000      445768658119  \n",
       "2                   0  941998966517952          20123648000      523996494328  \n",
       "3                   0  945115872339456           2515456000      125000000000  \n",
       "4                   0  943325698349224           5832000000      422381452527  \n",
       "\n",
       "[5 rows x 48 columns]"
      ],
      "text/html": [
       "<div>\n",
       "<style scoped>\n",
       "    .dataframe tbody tr th:only-of-type {\n",
       "        vertical-align: middle;\n",
       "    }\n",
       "\n",
       "    .dataframe tbody tr th {\n",
       "        vertical-align: top;\n",
       "    }\n",
       "\n",
       "    .dataframe thead th {\n",
       "        text-align: right;\n",
       "    }\n",
       "</style>\n",
       "<table border=\"1\" class=\"dataframe\">\n",
       "  <thead>\n",
       "    <tr style=\"text-align: right;\">\n",
       "      <th></th>\n",
       "      <th>bedrooms</th>\n",
       "      <th>bathrooms</th>\n",
       "      <th>sqft_living</th>\n",
       "      <th>sqft_lot</th>\n",
       "      <th>floors</th>\n",
       "      <th>waterfront</th>\n",
       "      <th>view</th>\n",
       "      <th>condition</th>\n",
       "      <th>grade</th>\n",
       "      <th>sqft_above</th>\n",
       "      <th>...</th>\n",
       "      <th>view cubed</th>\n",
       "      <th>condition cubed</th>\n",
       "      <th>grade cubed</th>\n",
       "      <th>sqft_above cubed</th>\n",
       "      <th>sqft_basement cubed</th>\n",
       "      <th>yr_built cubed</th>\n",
       "      <th>yr_renovated cubed</th>\n",
       "      <th>zipcode cubed</th>\n",
       "      <th>sqft_living15 cubed</th>\n",
       "      <th>sqft_lot15 cubed</th>\n",
       "    </tr>\n",
       "  </thead>\n",
       "  <tbody>\n",
       "    <tr>\n",
       "      <th>0</th>\n",
       "      <td>3</td>\n",
       "      <td>1.00</td>\n",
       "      <td>1180</td>\n",
       "      <td>5650</td>\n",
       "      <td>1.0</td>\n",
       "      <td>0</td>\n",
       "      <td>0</td>\n",
       "      <td>3</td>\n",
       "      <td>7</td>\n",
       "      <td>1180</td>\n",
       "      <td>...</td>\n",
       "      <td>0</td>\n",
       "      <td>27</td>\n",
       "      <td>343</td>\n",
       "      <td>1643032000</td>\n",
       "      <td>0</td>\n",
       "      <td>7472058875</td>\n",
       "      <td>0</td>\n",
       "      <td>946329856735752</td>\n",
       "      <td>2406104000</td>\n",
       "      <td>180362125000</td>\n",
       "    </tr>\n",
       "    <tr>\n",
       "      <th>1</th>\n",
       "      <td>3</td>\n",
       "      <td>2.25</td>\n",
       "      <td>2570</td>\n",
       "      <td>7242</td>\n",
       "      <td>2.0</td>\n",
       "      <td>0</td>\n",
       "      <td>0</td>\n",
       "      <td>3</td>\n",
       "      <td>7</td>\n",
       "      <td>2170</td>\n",
       "      <td>...</td>\n",
       "      <td>0</td>\n",
       "      <td>27</td>\n",
       "      <td>343</td>\n",
       "      <td>10218313000</td>\n",
       "      <td>64000000</td>\n",
       "      <td>7426288351</td>\n",
       "      <td>7892485271</td>\n",
       "      <td>944798095703125</td>\n",
       "      <td>4826809000</td>\n",
       "      <td>445768658119</td>\n",
       "    </tr>\n",
       "    <tr>\n",
       "      <th>2</th>\n",
       "      <td>2</td>\n",
       "      <td>1.00</td>\n",
       "      <td>770</td>\n",
       "      <td>10000</td>\n",
       "      <td>1.0</td>\n",
       "      <td>0</td>\n",
       "      <td>0</td>\n",
       "      <td>3</td>\n",
       "      <td>6</td>\n",
       "      <td>770</td>\n",
       "      <td>...</td>\n",
       "      <td>0</td>\n",
       "      <td>27</td>\n",
       "      <td>216</td>\n",
       "      <td>456533000</td>\n",
       "      <td>0</td>\n",
       "      <td>7222633237</td>\n",
       "      <td>0</td>\n",
       "      <td>941998966517952</td>\n",
       "      <td>20123648000</td>\n",
       "      <td>523996494328</td>\n",
       "    </tr>\n",
       "    <tr>\n",
       "      <th>3</th>\n",
       "      <td>4</td>\n",
       "      <td>3.00</td>\n",
       "      <td>1960</td>\n",
       "      <td>5000</td>\n",
       "      <td>1.0</td>\n",
       "      <td>0</td>\n",
       "      <td>0</td>\n",
       "      <td>5</td>\n",
       "      <td>7</td>\n",
       "      <td>1050</td>\n",
       "      <td>...</td>\n",
       "      <td>0</td>\n",
       "      <td>125</td>\n",
       "      <td>343</td>\n",
       "      <td>1157625000</td>\n",
       "      <td>753571000</td>\n",
       "      <td>7587307125</td>\n",
       "      <td>0</td>\n",
       "      <td>945115872339456</td>\n",
       "      <td>2515456000</td>\n",
       "      <td>125000000000</td>\n",
       "    </tr>\n",
       "    <tr>\n",
       "      <th>4</th>\n",
       "      <td>3</td>\n",
       "      <td>2.00</td>\n",
       "      <td>1680</td>\n",
       "      <td>8080</td>\n",
       "      <td>1.0</td>\n",
       "      <td>0</td>\n",
       "      <td>0</td>\n",
       "      <td>3</td>\n",
       "      <td>8</td>\n",
       "      <td>1680</td>\n",
       "      <td>...</td>\n",
       "      <td>0</td>\n",
       "      <td>27</td>\n",
       "      <td>512</td>\n",
       "      <td>4741632000</td>\n",
       "      <td>0</td>\n",
       "      <td>7845011803</td>\n",
       "      <td>0</td>\n",
       "      <td>943325698349224</td>\n",
       "      <td>5832000000</td>\n",
       "      <td>422381452527</td>\n",
       "    </tr>\n",
       "  </tbody>\n",
       "</table>\n",
       "<p>5 rows × 48 columns</p>\n",
       "</div>"
      ]
     },
     "execution_count": 3,
     "metadata": {},
     "output_type": "execute_result"
    }
   ],
   "execution_count": 3
  },
  {
   "metadata": {},
   "cell_type": "markdown",
   "source": [
    "# Training Data\n",
    "We have split the data into two halves, the first half will be the training data. Matrix trainingSamples contains our examples. Each row is an example and each column is a feature. Vector trainingLabels contains the labels for our training set."
   ],
   "id": "54406b501ba1edb6"
  },
  {
   "metadata": {
    "ExecuteTime": {
     "end_time": "2025-02-04T22:36:31.937802Z",
     "start_time": "2025-02-04T22:36:31.933271Z"
    }
   },
   "cell_type": "code",
   "source": [
    "total_rows = len(engineeredData)\n",
    "trainingSetRows = total_rows // 2\n",
    "trainingSamples = engineeredData[0:trainingSetRows].copy()\n",
    "trainingLabels = labels[0:trainingSetRows].copy()\n",
    "\n",
    "print(f\"trainingSamples shape: {trainingSamples.shape}\")\n",
    "print(f\"trainingLabels shape: {trainingLabels.shape}\")"
   ],
   "id": "34515778d42bb7be",
   "outputs": [
    {
     "name": "stdout",
     "output_type": "stream",
     "text": [
      "trainingSamples shape: (10806, 48)\n",
      "trainingLabels shape: (10806,)\n"
     ]
    }
   ],
   "execution_count": 4
  },
  {
   "metadata": {},
   "cell_type": "markdown",
   "source": "# Feature Scaling\n",
   "id": "cd812cba47280d41"
  },
  {
   "metadata": {
    "ExecuteTime": {
     "end_time": "2025-02-04T22:36:34.838399Z",
     "start_time": "2025-02-04T22:36:34.821731Z"
    }
   },
   "cell_type": "code",
   "source": [
    "means = engineeredData.mean()\n",
    "stds = engineeredData.std()\n",
    "print(engineeredData[:5])\n",
    "for column in engineeredData.columns:\n",
    "    engineeredData[column] = engineeredData[column] - means[column]\n",
    "    engineeredData[column] = engineeredData[column] / stds[column]\n",
    "print(engineeredData[:5])"
   ],
   "id": "ba058a6413bc4b26",
   "outputs": [
    {
     "name": "stdout",
     "output_type": "stream",
     "text": [
      "   bedrooms  bathrooms  sqft_living  sqft_lot  floors  waterfront  view  \\\n",
      "0         3       1.00         1180      5650     1.0           0     0   \n",
      "1         3       2.25         2570      7242     2.0           0     0   \n",
      "2         2       1.00          770     10000     1.0           0     0   \n",
      "3         4       3.00         1960      5000     1.0           0     0   \n",
      "4         3       2.00         1680      8080     1.0           0     0   \n",
      "\n",
      "   condition  grade  sqft_above  ...  view cubed  condition cubed  \\\n",
      "0          3      7        1180  ...           0               27   \n",
      "1          3      7        2170  ...           0               27   \n",
      "2          3      6         770  ...           0               27   \n",
      "3          5      7        1050  ...           0              125   \n",
      "4          3      8        1680  ...           0               27   \n",
      "\n",
      "   grade cubed  sqft_above cubed  sqft_basement cubed  yr_built cubed  \\\n",
      "0          343        1643032000                    0      7472058875   \n",
      "1          343       10218313000             64000000      7426288351   \n",
      "2          216         456533000                    0      7222633237   \n",
      "3          343        1157625000            753571000      7587307125   \n",
      "4          512        4741632000                    0      7845011803   \n",
      "\n",
      "   yr_renovated cubed    zipcode cubed  sqft_living15 cubed  sqft_lot15 cubed  \n",
      "0                   0  946329856735752           2406104000      180362125000  \n",
      "1          7892485271  944798095703125           4826809000      445768658119  \n",
      "2                   0  941998966517952          20123648000      523996494328  \n",
      "3                   0  945115872339456           2515456000      125000000000  \n",
      "4                   0  943325698349224           5832000000      422381452527  \n",
      "\n",
      "[5 rows x 48 columns]\n",
      "   bedrooms  bathrooms  sqft_living  sqft_lot    floors  waterfront      view  \\\n",
      "0 -0.398728  -1.447430    -0.979812 -0.228316 -0.915406   -0.087171 -0.305752   \n",
      "1 -0.398728   0.175603     0.533622 -0.189881  0.936484   -0.087171 -0.305752   \n",
      "2 -1.473925  -1.447430    -1.426221 -0.123296 -0.915406   -0.087171 -0.305752   \n",
      "3  0.676469   1.149422    -0.130547 -0.244009 -0.915406   -0.087171 -0.305752   \n",
      "4 -0.398728  -0.149004    -0.435412 -0.169649 -0.915406   -0.087171 -0.305752   \n",
      "\n",
      "   condition     grade  sqft_above  ...  view cubed  condition cubed  \\\n",
      "0  -0.629172 -0.558823   -0.734691  ...   -0.223045        -0.601600   \n",
      "1  -0.629172 -0.558823    0.460830  ...   -0.223045        -0.601600   \n",
      "2  -0.629172 -1.409554   -1.229805  ...   -0.223045        -0.601600   \n",
      "3   2.444237 -0.558823   -0.891678  ...   -0.223045         2.816657   \n",
      "4  -0.629172  0.291909   -0.130892  ...   -0.223045        -0.601600   \n",
      "\n",
      "   grade cubed  sqft_above cubed  sqft_basement cubed  yr_built cubed  \\\n",
      "0    -0.568657         -0.408494            -0.231516       -0.559087   \n",
      "1    -0.568657         -0.000089            -0.186998       -0.693691   \n",
      "2    -1.088617         -0.465002            -0.231516       -1.292606   \n",
      "3    -0.568657         -0.431612             0.292663       -0.220162   \n",
      "4     0.123258         -0.260921            -0.231516        0.537703   \n",
      "\n",
      "   yr_renovated cubed  zipcode cubed  sqft_living15 cubed  sqft_lot15 cubed  \n",
      "0           -0.210072       1.871057            -0.613582         -0.033812  \n",
      "1            4.720560       0.879229            -0.440668         -0.033772  \n",
      "2           -0.210072      -0.933230             0.652001         -0.033761  \n",
      "3           -0.210072       1.084992            -0.605771         -0.033821  \n",
      "4           -0.210072      -0.074160            -0.368866         -0.033776  \n",
      "\n",
      "[5 rows x 48 columns]\n"
     ]
    }
   ],
   "execution_count": 5
  },
  {
   "metadata": {},
   "cell_type": "markdown",
   "source": [
    "# Parameters\n",
    "Parameter vector w and param b\n"
   ],
   "id": "1e2c68feddff291b"
  },
  {
   "metadata": {
    "ExecuteTime": {
     "end_time": "2025-02-04T22:39:00.073923Z",
     "start_time": "2025-02-04T22:39:00.045572Z"
    }
   },
   "cell_type": "code",
   "source": [
    "b = 1\n",
    "w = np.random.random_sample(trainingSamples.shape[1])\n",
    "print(f\"w shape: {w.shape}\")\n",
    "print(f\"Initial cost: {compute_cost(trainingSamples.to_numpy(), trainingLabels.to_numpy(), w, b)}\")\n",
    "dj_dw, dj_db = compute_gradient(trainingSamples.to_numpy(), trainingLabels.to_numpy(), w, b)\n",
    "print(f\"Initial gradient dw:  {dj_dw})\")\n",
    "print(f\"Initial gradient db: {dj_db})\")"
   ],
   "id": "feaaba3eb9235724",
   "outputs": [
    {
     "name": "stdout",
     "output_type": "stream",
     "text": [
      "w shape: (48,)\n",
      "Initial cost: 5.818350058343597e+30\n",
      "Initial gradient dw:  [7.56612191e+14 4.71781439e+14 5.01806698e+17 7.11362411e+19\n",
      " 3.22039164e+14 1.74875110e+12 1.17672701e+14 7.64715449e+14\n",
      " 1.70923667e+15 4.37981278e+17 6.38254198e+16 4.31802343e+17\n",
      " 1.49053533e+16 2.15233121e+19 4.65368657e+17 2.02459286e+19\n",
      " 2.78911711e+15 1.18513203e+15 1.42037266e+21 8.62522742e+25\n",
      " 5.34163941e+14 1.74875110e+12 3.40787805e+14 2.76181387e+15\n",
      " 1.38036371e+16 1.09006176e+21 7.13564487e+19 8.49732136e+20\n",
      " 2.97576469e+19 2.11067061e+24 1.08230519e+21 8.49814760e+24\n",
      " 1.08871375e+16 3.34036496e+15 4.84207787e+24 1.19657588e+32\n",
      " 9.87053658e+14 1.74875110e+12 1.02220904e+15 1.03552794e+16\n",
      " 1.15789318e+17 3.26462875e+24 9.79206475e+22 1.67258516e+24\n",
      " 5.94127330e+22 2.06981694e+29 2.74265864e+24 4.88041573e+30])\n",
      "Initial gradient db: 219481469401035.84)\n"
     ]
    }
   ],
   "execution_count": 8
  },
  {
   "metadata": {},
   "cell_type": "markdown",
   "source": "",
   "id": "e07643f915022cf5"
  },
  {
   "metadata": {
    "ExecuteTime": {
     "end_time": "2025-02-04T22:37:12.068413Z",
     "start_time": "2025-02-04T22:36:52.520260Z"
    }
   },
   "cell_type": "code",
   "source": [
    "# Run gradient descent\n",
    "alpha = 5.0e-7\n",
    "iterations = 1000\n",
    "w_final, b_final, j_history = gradient_descent(trainingSamples.to_numpy(), trainingLabels.to_numpy(), w, b, compute_cost, compute_gradient, alpha, iterations)\n",
    "print(f\"Final cost: {compute_cost(trainingSamples.to_numpy(), trainingLabels.to_numpy(), w_final, b_final)}\")\n"
   ],
   "id": "72142bf9cdf1b08",
   "outputs": [
    {
     "name": "stdout",
     "output_type": "stream",
     "text": [
      "Iteration    0: Cost 588830421521532701135165054323984719067113855971729483348316007359883647363651509157888.00   \n"
     ]
    },
    {
     "name": "stderr",
     "output_type": "stream",
     "text": [
      "/home/ahi/PycharmProjects/HouseSalesKingCounty/train.py:24: RuntimeWarning: overflow encountered in scalar power\n",
      "  cost += (f_wb - y[i]) ** 2\n",
      "/home/ahi/PycharmProjects/HouseSalesKingCounty/train.py:47: RuntimeWarning: invalid value encountered in multiply\n",
      "  dj_dw = dj_dw + error * X[i]\n"
     ]
    },
    {
     "name": "stdout",
     "output_type": "stream",
     "text": [
      "Iteration   10: Cost      inf   \n",
      "Iteration   20: Cost      nan   \n",
      "Iteration   30: Cost      nan   \n",
      "Iteration   40: Cost      nan   \n",
      "Iteration   50: Cost      nan   \n",
      "Iteration   60: Cost      nan   \n",
      "Iteration   70: Cost      nan   \n",
      "Iteration   80: Cost      nan   \n",
      "Iteration   90: Cost      nan   \n",
      "Iteration  100: Cost      nan   \n",
      "Iteration  110: Cost      nan   \n",
      "Iteration  120: Cost      nan   \n",
      "Iteration  130: Cost      nan   \n",
      "Iteration  140: Cost      nan   \n",
      "Iteration  150: Cost      nan   \n",
      "Iteration  160: Cost      nan   \n",
      "Iteration  170: Cost      nan   \n",
      "Iteration  180: Cost      nan   \n",
      "Iteration  190: Cost      nan   \n",
      "Iteration  200: Cost      nan   \n",
      "Iteration  210: Cost      nan   \n",
      "Iteration  220: Cost      nan   \n",
      "Iteration  230: Cost      nan   \n",
      "Iteration  240: Cost      nan   \n",
      "Iteration  250: Cost      nan   \n",
      "Iteration  260: Cost      nan   \n",
      "Iteration  270: Cost      nan   \n",
      "Iteration  280: Cost      nan   \n",
      "Iteration  290: Cost      nan   \n",
      "Iteration  300: Cost      nan   \n",
      "Iteration  310: Cost      nan   \n",
      "Iteration  320: Cost      nan   \n",
      "Iteration  330: Cost      nan   \n",
      "Iteration  340: Cost      nan   \n",
      "Iteration  350: Cost      nan   \n",
      "Iteration  360: Cost      nan   \n",
      "Iteration  370: Cost      nan   \n",
      "Iteration  380: Cost      nan   \n",
      "Iteration  390: Cost      nan   \n",
      "Iteration  400: Cost      nan   \n",
      "Iteration  410: Cost      nan   \n",
      "Iteration  420: Cost      nan   \n",
      "Iteration  430: Cost      nan   \n",
      "Iteration  440: Cost      nan   \n",
      "Iteration  450: Cost      nan   \n",
      "Iteration  460: Cost      nan   \n",
      "Iteration  470: Cost      nan   \n",
      "Iteration  480: Cost      nan   \n",
      "Iteration  490: Cost      nan   \n",
      "Iteration  500: Cost      nan   \n",
      "Iteration  510: Cost      nan   \n",
      "Iteration  520: Cost      nan   \n",
      "Iteration  530: Cost      nan   \n",
      "Iteration  540: Cost      nan   \n",
      "Iteration  550: Cost      nan   \n",
      "Iteration  560: Cost      nan   \n",
      "Iteration  570: Cost      nan   \n",
      "Iteration  580: Cost      nan   \n",
      "Iteration  590: Cost      nan   \n",
      "Iteration  600: Cost      nan   \n",
      "Iteration  610: Cost      nan   \n",
      "Iteration  620: Cost      nan   \n",
      "Iteration  630: Cost      nan   \n",
      "Iteration  640: Cost      nan   \n",
      "Iteration  650: Cost      nan   \n",
      "Iteration  660: Cost      nan   \n",
      "Iteration  670: Cost      nan   \n",
      "Iteration  680: Cost      nan   \n",
      "Iteration  690: Cost      nan   \n",
      "Iteration  700: Cost      nan   \n",
      "Iteration  710: Cost      nan   \n",
      "Iteration  720: Cost      nan   \n",
      "Iteration  730: Cost      nan   \n",
      "Iteration  740: Cost      nan   \n",
      "Iteration  750: Cost      nan   \n",
      "Iteration  760: Cost      nan   \n",
      "Iteration  770: Cost      nan   \n",
      "Iteration  780: Cost      nan   \n",
      "Iteration  790: Cost      nan   \n",
      "Iteration  800: Cost      nan   \n",
      "Iteration  810: Cost      nan   \n",
      "Iteration  820: Cost      nan   \n",
      "Iteration  830: Cost      nan   \n",
      "Iteration  840: Cost      nan   \n",
      "Iteration  850: Cost      nan   \n",
      "Iteration  860: Cost      nan   \n",
      "Iteration  870: Cost      nan   \n",
      "Iteration  880: Cost      nan   \n",
      "Iteration  890: Cost      nan   \n",
      "Iteration  900: Cost      nan   \n",
      "Iteration  910: Cost      nan   \n",
      "Iteration  920: Cost      nan   \n",
      "Iteration  930: Cost      nan   \n",
      "Iteration  940: Cost      nan   \n",
      "Iteration  950: Cost      nan   \n",
      "Iteration  960: Cost      nan   \n",
      "Iteration  970: Cost      nan   \n",
      "Iteration  980: Cost      nan   \n",
      "Iteration  990: Cost      nan   \n",
      "Final cost: nan\n"
     ]
    }
   ],
   "execution_count": 7
  },
  {
   "metadata": {},
   "cell_type": "markdown",
   "source": "# Plotting cost vs iterations\n",
   "id": "424ca4233995e792"
  },
  {
   "metadata": {
    "ExecuteTime": {
     "end_time": "2025-02-04T22:22:55.222348Z",
     "start_time": "2025-02-04T22:22:55.100053Z"
    }
   },
   "cell_type": "code",
   "source": [
    "\n",
    "\n",
    "fig, (ax1, ax2) = plt.subplots(1, 2, constrained_layout=True, figsize=(12, 4))\n",
    "ax1.plot(j_history)\n",
    "ax2.plot(100 + np.arange(len(j_history[100:])), j_history[100:])\n",
    "ax1.set_title(\"Cost vs. iteration\");  ax2.set_title(\"Cost vs. iteration (tail)\")\n",
    "ax1.set_ylabel('Cost')             ;  ax2.set_ylabel('Cost')\n",
    "ax1.set_xlabel('iteration step')   ;  ax2.set_xlabel('iteration step')\n",
    "plt.show()"
   ],
   "id": "421e14db5b893730",
   "outputs": [
    {
     "data": {
      "text/plain": [
       "<Figure size 1200x400 with 2 Axes>"
      ],
      "image/png": "[encoded data removed]"
     },
     "metadata": {},
     "output_type": "display_data"
    }
   ],
   "execution_count": 6
  }
 ],
 "metadata": {
  "kernelspec": {
   "display_name": "Python 3",
   "language": "python",
   "name": "python3"
  },
  "language_info": {
   "codemirror_mode": {
    "name": "ipython",
    "version": 2
   },
   "file_extension": ".py",
   "mimetype": "text/x-python",
   "name": "python",
   "nbconvert_exporter": "python",
   "pygments_lexer": "ipython2",
   "version": "2.7.6"
  }
 },
 "nbformat": 4,
 "nbformat_minor": 5
}
