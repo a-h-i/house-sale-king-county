{
 "cells": [
  {
   "metadata": {},
   "cell_type": "markdown",
   "source": [
    "# Housing prices for King County\n",
    "\n",
    "Training a simple polynomial model on Hosing Sale data from king country [data source](https://www.kaggle.com/datasets/harlfoxem/housesalesprediction)\n",
    "As a learning exercise"
   ],
   "id": "8a77807f92f26ee"
  },
  {
   "metadata": {
    "ExecuteTime": {
     "end_time": "2025-02-05T11:27:53.728942Z",
     "start_time": "2025-02-05T11:27:53.465659Z"
    }
   },
   "cell_type": "code",
   "source": [
    "from utils import load_data\n",
    "from train import compute_cost, compute_gradient, gradient_descent\n",
    "from matplotlib import pyplot as plt\n",
    "import numpy as np\n",
    "import pandas as pd\n",
    "# Data is a pandas DataFrame\n",
    "data = load_data.load_data(\"./data/kc_house_data.csv\")\n"
   ],
   "id": "fbc121e30a2defb3",
   "outputs": [],
   "execution_count": 1
  },
  {
   "metadata": {},
   "cell_type": "markdown",
   "source": [
    "# Feature Engineering\n",
    "Housing prices do not tend to be linear but curve like, thus we will be engineering some polynomial features"
   ],
   "id": "c0b5cece06f2f50e"
  },
  {
   "metadata": {
    "ExecuteTime": {
     "end_time": "2025-02-05T11:27:53.746101Z",
     "start_time": "2025-02-05T11:27:53.733276Z"
    }
   },
   "cell_type": "code",
   "source": [
    "labels = data['price']\n",
    "data.drop(['price', 'date', 'id', 'lat', 'long'], axis=1, inplace=True)\n",
    "dataSquared = data.pow(2)\n",
    "dataSquared.rename(lambda c: f\"{c} squared\", inplace=True, axis='columns')\n",
    "\n",
    "dataCubed = data.pow(3)\n",
    "dataCubed.rename(lambda c: f\"{c} cubed\", inplace=True, axis='columns')\n",
    "\n",
    "engineeredData = data.join(dataSquared).join(dataCubed)\n",
    "\n",
    "engineeredData[0:5]"
   ],
   "id": "5fb51494d8c0f93e",
   "outputs": [
    {
     "data": {
      "text/plain": [
       "   bedrooms  bathrooms  sqft_living  sqft_lot  floors  waterfront  view  \\\n",
       "0         3       1.00         1180      5650     1.0           0     0   \n",
       "1         3       2.25         2570      7242     2.0           0     0   \n",
       "2         2       1.00          770     10000     1.0           0     0   \n",
       "3         4       3.00         1960      5000     1.0           0     0   \n",
       "4         3       2.00         1680      8080     1.0           0     0   \n",
       "\n",
       "   condition  grade  sqft_above  ...  view cubed  condition cubed  \\\n",
       "0          3      7        1180  ...           0               27   \n",
       "1          3      7        2170  ...           0               27   \n",
       "2          3      6         770  ...           0               27   \n",
       "3          5      7        1050  ...           0              125   \n",
       "4          3      8        1680  ...           0               27   \n",
       "\n",
       "   grade cubed  sqft_above cubed  sqft_basement cubed  yr_built cubed  \\\n",
       "0          343        1643032000                    0      7472058875   \n",
       "1          343       10218313000             64000000      7426288351   \n",
       "2          216         456533000                    0      7222633237   \n",
       "3          343        1157625000            753571000      7587307125   \n",
       "4          512        4741632000                    0      7845011803   \n",
       "\n",
       "   yr_renovated cubed    zipcode cubed  sqft_living15 cubed  sqft_lot15 cubed  \n",
       "0                   0  946329856735752           2406104000      180362125000  \n",
       "1          7892485271  944798095703125           4826809000      445768658119  \n",
       "2                   0  941998966517952          20123648000      523996494328  \n",
       "3                   0  945115872339456           2515456000      125000000000  \n",
       "4                   0  943325698349224           5832000000      422381452527  \n",
       "\n",
       "[5 rows x 48 columns]"
      ],
      "text/html": [
       "<div>\n",
       "<style scoped>\n",
       "    .dataframe tbody tr th:only-of-type {\n",
       "        vertical-align: middle;\n",
       "    }\n",
       "\n",
       "    .dataframe tbody tr th {\n",
       "        vertical-align: top;\n",
       "    }\n",
       "\n",
       "    .dataframe thead th {\n",
       "        text-align: right;\n",
       "    }\n",
       "</style>\n",
       "<table border=\"1\" class=\"dataframe\">\n",
       "  <thead>\n",
       "    <tr style=\"text-align: right;\">\n",
       "      <th></th>\n",
       "      <th>bedrooms</th>\n",
       "      <th>bathrooms</th>\n",
       "      <th>sqft_living</th>\n",
       "      <th>sqft_lot</th>\n",
       "      <th>floors</th>\n",
       "      <th>waterfront</th>\n",
       "      <th>view</th>\n",
       "      <th>condition</th>\n",
       "      <th>grade</th>\n",
       "      <th>sqft_above</th>\n",
       "      <th>...</th>\n",
       "      <th>view cubed</th>\n",
       "      <th>condition cubed</th>\n",
       "      <th>grade cubed</th>\n",
       "      <th>sqft_above cubed</th>\n",
       "      <th>sqft_basement cubed</th>\n",
       "      <th>yr_built cubed</th>\n",
       "      <th>yr_renovated cubed</th>\n",
       "      <th>zipcode cubed</th>\n",
       "      <th>sqft_living15 cubed</th>\n",
       "      <th>sqft_lot15 cubed</th>\n",
       "    </tr>\n",
       "  </thead>\n",
       "  <tbody>\n",
       "    <tr>\n",
       "      <th>0</th>\n",
       "      <td>3</td>\n",
       "      <td>1.00</td>\n",
       "      <td>1180</td>\n",
       "      <td>5650</td>\n",
       "      <td>1.0</td>\n",
       "      <td>0</td>\n",
       "      <td>0</td>\n",
       "      <td>3</td>\n",
       "      <td>7</td>\n",
       "      <td>1180</td>\n",
       "      <td>...</td>\n",
       "      <td>0</td>\n",
       "      <td>27</td>\n",
       "      <td>343</td>\n",
       "      <td>1643032000</td>\n",
       "      <td>0</td>\n",
       "      <td>7472058875</td>\n",
       "      <td>0</td>\n",
       "      <td>946329856735752</td>\n",
       "      <td>2406104000</td>\n",
       "      <td>180362125000</td>\n",
       "    </tr>\n",
       "    <tr>\n",
       "      <th>1</th>\n",
       "      <td>3</td>\n",
       "      <td>2.25</td>\n",
       "      <td>2570</td>\n",
       "      <td>7242</td>\n",
       "      <td>2.0</td>\n",
       "      <td>0</td>\n",
       "      <td>0</td>\n",
       "      <td>3</td>\n",
       "      <td>7</td>\n",
       "      <td>2170</td>\n",
       "      <td>...</td>\n",
       "      <td>0</td>\n",
       "      <td>27</td>\n",
       "      <td>343</td>\n",
       "      <td>10218313000</td>\n",
       "      <td>64000000</td>\n",
       "      <td>7426288351</td>\n",
       "      <td>7892485271</td>\n",
       "      <td>944798095703125</td>\n",
       "      <td>4826809000</td>\n",
       "      <td>445768658119</td>\n",
       "    </tr>\n",
       "    <tr>\n",
       "      <th>2</th>\n",
       "      <td>2</td>\n",
       "      <td>1.00</td>\n",
       "      <td>770</td>\n",
       "      <td>10000</td>\n",
       "      <td>1.0</td>\n",
       "      <td>0</td>\n",
       "      <td>0</td>\n",
       "      <td>3</td>\n",
       "      <td>6</td>\n",
       "      <td>770</td>\n",
       "      <td>...</td>\n",
       "      <td>0</td>\n",
       "      <td>27</td>\n",
       "      <td>216</td>\n",
       "      <td>456533000</td>\n",
       "      <td>0</td>\n",
       "      <td>7222633237</td>\n",
       "      <td>0</td>\n",
       "      <td>941998966517952</td>\n",
       "      <td>20123648000</td>\n",
       "      <td>523996494328</td>\n",
       "    </tr>\n",
       "    <tr>\n",
       "      <th>3</th>\n",
       "      <td>4</td>\n",
       "      <td>3.00</td>\n",
       "      <td>1960</td>\n",
       "      <td>5000</td>\n",
       "      <td>1.0</td>\n",
       "      <td>0</td>\n",
       "      <td>0</td>\n",
       "      <td>5</td>\n",
       "      <td>7</td>\n",
       "      <td>1050</td>\n",
       "      <td>...</td>\n",
       "      <td>0</td>\n",
       "      <td>125</td>\n",
       "      <td>343</td>\n",
       "      <td>1157625000</td>\n",
       "      <td>753571000</td>\n",
       "      <td>7587307125</td>\n",
       "      <td>0</td>\n",
       "      <td>945115872339456</td>\n",
       "      <td>2515456000</td>\n",
       "      <td>125000000000</td>\n",
       "    </tr>\n",
       "    <tr>\n",
       "      <th>4</th>\n",
       "      <td>3</td>\n",
       "      <td>2.00</td>\n",
       "      <td>1680</td>\n",
       "      <td>8080</td>\n",
       "      <td>1.0</td>\n",
       "      <td>0</td>\n",
       "      <td>0</td>\n",
       "      <td>3</td>\n",
       "      <td>8</td>\n",
       "      <td>1680</td>\n",
       "      <td>...</td>\n",
       "      <td>0</td>\n",
       "      <td>27</td>\n",
       "      <td>512</td>\n",
       "      <td>4741632000</td>\n",
       "      <td>0</td>\n",
       "      <td>7845011803</td>\n",
       "      <td>0</td>\n",
       "      <td>943325698349224</td>\n",
       "      <td>5832000000</td>\n",
       "      <td>422381452527</td>\n",
       "    </tr>\n",
       "  </tbody>\n",
       "</table>\n",
       "<p>5 rows × 48 columns</p>\n",
       "</div>"
      ]
     },
     "execution_count": 2,
     "metadata": {},
     "output_type": "execute_result"
    }
   ],
   "execution_count": 2
  },
  {
   "metadata": {},
   "cell_type": "markdown",
   "source": "# Feature Scaling\n",
   "id": "34ff916f0c2f3993"
  },
  {
   "metadata": {
    "ExecuteTime": {
     "end_time": "2025-02-05T11:27:53.804052Z",
     "start_time": "2025-02-05T11:27:53.794907Z"
    }
   },
   "cell_type": "code",
   "source": [
    "means = engineeredData.mean()\n",
    "stds = engineeredData.std()\n",
    "for column in engineeredData.columns:\n",
    "    engineeredData[column] = engineeredData[column] - means[column]\n",
    "    engineeredData[column] = engineeredData[column] / stds[column]\n"
   ],
   "id": "325bbca65634be68",
   "outputs": [],
   "execution_count": 3
  },
  {
   "metadata": {},
   "cell_type": "markdown",
   "source": [
    "# Training Data\n",
    "We have split the data into two halves, the first half will be the training data. Matrix trainingSamples contains our examples. Each row is an example and each column is a feature. Vector trainingLabels contains the labels for our training set."
   ],
   "id": "54406b501ba1edb6"
  },
  {
   "metadata": {
    "ExecuteTime": {
     "end_time": "2025-02-05T11:27:53.833585Z",
     "start_time": "2025-02-05T11:27:53.829441Z"
    }
   },
   "cell_type": "code",
   "source": [
    "total_rows = len(engineeredData)\n",
    "trainingSetRows = total_rows // 2\n",
    "trainingSamples = engineeredData[0:trainingSetRows].copy()\n",
    "trainingLabels = labels[0:trainingSetRows].copy()\n",
    "\n",
    "print(f\"trainingSamples shape: {trainingSamples.shape}\")\n",
    "print(f\"trainingLabels shape: {trainingLabels.shape}\")"
   ],
   "id": "34515778d42bb7be",
   "outputs": [
    {
     "name": "stdout",
     "output_type": "stream",
     "text": [
      "trainingSamples shape: (10806, 48)\n",
      "trainingLabels shape: (10806,)\n"
     ]
    }
   ],
   "execution_count": 4
  },
  {
   "metadata": {},
   "cell_type": "markdown",
   "source": [
    "# Parameters\n",
    "Parameter vector w and param b\n"
   ],
   "id": "1e2c68feddff291b"
  },
  {
   "metadata": {
    "ExecuteTime": {
     "end_time": "2025-02-05T11:27:53.940795Z",
     "start_time": "2025-02-05T11:27:53.916731Z"
    }
   },
   "cell_type": "code",
   "source": [
    "b = 1\n",
    "w = np.random.random_sample(trainingSamples.shape[1])\n",
    "print(f\"w shape: {w.shape}\")\n",
    "print(f\"Initial cost: {compute_cost(trainingSamples.to_numpy(), trainingLabels.to_numpy(), w, b)}\")\n",
    "dj_dw, dj_db = compute_gradient(trainingSamples.to_numpy(), trainingLabels.to_numpy(), w, b)\n",
    "print(f\"Initial gradient dw:  {dj_dw})\")\n",
    "print(f\"Initial gradient db: {dj_db})\")"
   ],
   "id": "feaaba3eb9235724",
   "outputs": [
    {
     "name": "stdout",
     "output_type": "stream",
     "text": [
      "w shape: (48,)\n",
      "Initial cost: 210743364304.52267\n",
      "Initial gradient dw:  [-103589.01513766 -153862.47723057 -239722.52577471  -47834.84297685\n",
      "  -36567.03965963 -111840.47935325 -151508.65128857  -46279.10493238\n",
      " -211648.37544476 -194626.89947774 -133315.67860678   53747.81186333\n",
      "  -62254.52911746   19497.79296018 -204176.48144148  -40856.76969629\n",
      "  -68695.50236019 -178037.34495316 -263867.83479226  -22902.57394302\n",
      "  -28080.43633328 -111840.47935325 -149754.40985325  -46044.4209495\n",
      " -221681.99797736 -212961.94428687 -165008.43949415   53863.85230424\n",
      "  -62434.93042367   19500.29155917 -206861.24051979  -12390.3957102\n",
      "  -13177.04149996 -192428.13981855 -247826.74716075  -16193.58362898\n",
      "  -17528.67696699 -111840.47935325 -142978.12462902  -45728.55734225\n",
      " -229645.31301536 -215239.47787519 -159344.81283127   53981.27941022\n",
      "  -62609.17701246   19502.79057458 -198303.4549921    -6148.41321522])\n",
      "Initial gradient db: -531754.3131574342)\n"
     ]
    }
   ],
   "execution_count": 5
  },
  {
   "metadata": {},
   "cell_type": "markdown",
   "source": "",
   "id": "e07643f915022cf5"
  },
  {
   "metadata": {
    "jupyter": {
     "is_executing": true
    },
    "ExecuteTime": {
     "start_time": "2025-02-05T11:27:54.017082Z"
    }
   },
   "cell_type": "code",
   "source": [
    "# Run gradient descent\n",
    "alpha = 5.0e-4\n",
    "iterations = 1_00_000\n",
    "w_final, b_final, j_history = gradient_descent(trainingSamples.to_numpy(), trainingLabels.to_numpy(), w, b, compute_cost, compute_gradient, alpha, iterations)\n",
    "print(f\"Final cost: {compute_cost(trainingSamples.to_numpy(), trainingLabels.to_numpy(), w_final, b_final)}\")\n"
   ],
   "id": "72142bf9cdf1b08",
   "outputs": [
    {
     "name": "stdout",
     "output_type": "stream",
     "text": [
      "Iteration    0: Cost 210150492390.57   \n",
      "Iteration  100: Cost 169203812599.43   \n",
      "Iteration  200: Cost 146724538564.35   \n",
      "Iteration  300: Cost 131134429872.04   \n",
      "Iteration  400: Cost 118805883623.97   \n",
      "Iteration  500: Cost 108433169321.17   \n",
      "Iteration  600: Cost 99445487560.23   \n",
      "Iteration  700: Cost 91537122665.86   \n",
      "Iteration  800: Cost 84515649717.23   \n",
      "Iteration  900: Cost 78245983792.84   \n",
      "Iteration 1000: Cost 72626238095.81   \n",
      "Iteration 1100: Cost 67575681270.98   \n",
      "Iteration 1200: Cost 63028042850.33   \n",
      "Iteration 1300: Cost 58927504368.21   \n",
      "Iteration 1400: Cost 55226164099.70   \n",
      "Iteration 1500: Cost 51882357599.58   \n",
      "Iteration 1600: Cost 48859495055.32   \n",
      "Iteration 1700: Cost 46125221046.20   \n",
      "Iteration 1800: Cost 43650782025.60   \n",
      "Iteration 1900: Cost 41410532380.01   \n",
      "Iteration 2000: Cost 39381536481.47   \n",
      "Iteration 2100: Cost 37543239879.96   \n",
      "Iteration 2200: Cost 35877192226.55   \n",
      "Iteration 2300: Cost 34366810275.38   \n",
      "Iteration 2400: Cost 32997172887.01   \n",
      "Iteration 2500: Cost 31754842225.27   \n"
     ]
    }
   ],
   "execution_count": null
  },
  {
   "metadata": {},
   "cell_type": "markdown",
   "source": "# Plotting cost vs iterations\n",
   "id": "424ca4233995e792"
  },
  {
   "metadata": {
    "ExecuteTime": {
     "end_time": "2025-02-05T11:26:47.453565Z",
     "start_time": "2025-02-05T11:26:47.282955Z"
    }
   },
   "cell_type": "code",
   "source": [
    "\n",
    "\n",
    "fig, (ax1, ax2) = plt.subplots(1, 2, constrained_layout=True, figsize=(12, 4))\n",
    "ax1.plot(j_history)\n",
    "ax2.plot(100 + np.arange(len(j_history[100:])), j_history[100:])\n",
    "ax1.set_title(\"Cost vs. iteration\");  ax2.set_title(\"Cost vs. iteration (tail)\")\n",
    "ax1.set_ylabel('Cost')             ;  ax2.set_ylabel('Cost')\n",
    "ax1.set_xlabel('iteration step')   ;  ax2.set_xlabel('iteration step')\n",
    "plt.show()"
   ],
   "id": "421e14db5b893730",
   "outputs": [
    {
     "data": {
      "text/plain": [
       "<Figure size 1200x400 with 2 Axes>"
      ],
      "image/png": "[encoded data removed]"
     },
     "metadata": {},
     "output_type": "display_data"
    }
   ],
   "execution_count": 7
  },
  {
   "metadata": {
    "ExecuteTime": {
     "end_time": "2025-02-05T11:26:47.465937Z",
     "start_time": "2025-02-05T11:26:47.464100Z"
    }
   },
   "cell_type": "code",
   "source": "print(f\"w final: {w_final}\")",
   "id": "c43620b6c2bd7d99",
   "outputs": [
    {
     "name": "stdout",
     "output_type": "stream",
     "text": [
      "w final: [ -43152.04521092   34397.38483925   86608.75984257    2716.28296591\n",
      "    3611.73679016   60004.0283059    30073.52958495   11255.77776102\n",
      "  129516.58231249   77336.87588138   35028.60660525 -115052.14324287\n",
      "    3891.95770592   -2572.94364178   20329.43326152  -17746.66182418]\n"
     ]
    }
   ],
   "execution_count": 8
  }
 ],
 "metadata": {
  "kernelspec": {
   "display_name": "Python 3",
   "language": "python",
   "name": "python3"
  },
  "language_info": {
   "codemirror_mode": {
    "name": "ipython",
    "version": 2
   },
   "file_extension": ".py",
   "mimetype": "text/x-python",
   "name": "python",
   "nbconvert_exporter": "python",
   "pygments_lexer": "ipython2",
   "version": "2.7.6"
  }
 },
 "nbformat": 4,
 "nbformat_minor": 5
}
