{
 "cells": [
  {
   "metadata": {},
   "cell_type": "markdown",
   "source": [
    "# Housing prices for King County\n",
    "\n",
    "Training a simple polynomial model on Hosing Sale data from king country [data source](https://www.kaggle.com/datasets/harlfoxem/housesalesprediction)\n",
    "As a learning exercise"
   ],
   "id": "8a77807f92f26ee"
  },
  {
   "metadata": {
    "ExecuteTime": {
     "end_time": "2025-02-04T23:17:53.803218Z",
     "start_time": "2025-02-04T23:17:53.537029Z"
    }
   },
   "cell_type": "code",
   "source": [
    "from utils import load_data\n",
    "from train import compute_cost, compute_gradient, gradient_descent\n",
    "from matplotlib import pyplot as plt\n",
    "import numpy as np\n",
    "import pandas as pd\n",
    "# Data is a pandas DataFrame\n",
    "data = load_data.load_data(\"./data/kc_house_data.csv\")\n"
   ],
   "id": "fbc121e30a2defb3",
   "outputs": [],
   "execution_count": 1
  },
  {
   "metadata": {},
   "cell_type": "markdown",
   "source": [
    "# Feature Engineering\n",
    "Housing prices do not tend to be linear but curve like, thus we will be engineering some polynomial features"
   ],
   "id": "c0b5cece06f2f50e"
  },
  {
   "metadata": {
    "ExecuteTime": {
     "end_time": "2025-02-04T23:17:53.820201Z",
     "start_time": "2025-02-04T23:17:53.806757Z"
    }
   },
   "cell_type": "code",
   "source": [
    "labels = data['price']\n",
    "data.drop(['price', 'date', 'id', 'lat', 'long'], axis=1, inplace=True)\n",
    "dataSquared = data.pow(2)\n",
    "dataSquared.rename(lambda c: f\"{c} squared\", inplace=True, axis='columns')\n",
    "\n",
    "dataCubed = data.pow(3)\n",
    "dataCubed.rename(lambda c: f\"{c} cubed\", inplace=True, axis='columns')\n",
    "\n",
    "engineeredData = data.join(dataSquared).join(dataCubed)\n",
    "\n",
    "engineeredData[0:5]"
   ],
   "id": "5fb51494d8c0f93e",
   "outputs": [
    {
     "data": {
      "text/plain": [
       "   bedrooms  bathrooms  sqft_living  sqft_lot  floors  waterfront  view  \\\n",
       "0         3       1.00         1180      5650     1.0           0     0   \n",
       "1         3       2.25         2570      7242     2.0           0     0   \n",
       "2         2       1.00          770     10000     1.0           0     0   \n",
       "3         4       3.00         1960      5000     1.0           0     0   \n",
       "4         3       2.00         1680      8080     1.0           0     0   \n",
       "\n",
       "   condition  grade  sqft_above  ...  view cubed  condition cubed  \\\n",
       "0          3      7        1180  ...           0               27   \n",
       "1          3      7        2170  ...           0               27   \n",
       "2          3      6         770  ...           0               27   \n",
       "3          5      7        1050  ...           0              125   \n",
       "4          3      8        1680  ...           0               27   \n",
       "\n",
       "   grade cubed  sqft_above cubed  sqft_basement cubed  yr_built cubed  \\\n",
       "0          343        1643032000                    0      7472058875   \n",
       "1          343       10218313000             64000000      7426288351   \n",
       "2          216         456533000                    0      7222633237   \n",
       "3          343        1157625000            753571000      7587307125   \n",
       "4          512        4741632000                    0      7845011803   \n",
       "\n",
       "   yr_renovated cubed    zipcode cubed  sqft_living15 cubed  sqft_lot15 cubed  \n",
       "0                   0  946329856735752           2406104000      180362125000  \n",
       "1          7892485271  944798095703125           4826809000      445768658119  \n",
       "2                   0  941998966517952          20123648000      523996494328  \n",
       "3                   0  945115872339456           2515456000      125000000000  \n",
       "4                   0  943325698349224           5832000000      422381452527  \n",
       "\n",
       "[5 rows x 48 columns]"
      ],
      "text/html": [
       "<div>\n",
       "<style scoped>\n",
       "    .dataframe tbody tr th:only-of-type {\n",
       "        vertical-align: middle;\n",
       "    }\n",
       "\n",
       "    .dataframe tbody tr th {\n",
       "        vertical-align: top;\n",
       "    }\n",
       "\n",
       "    .dataframe thead th {\n",
       "        text-align: right;\n",
       "    }\n",
       "</style>\n",
       "<table border=\"1\" class=\"dataframe\">\n",
       "  <thead>\n",
       "    <tr style=\"text-align: right;\">\n",
       "      <th></th>\n",
       "      <th>bedrooms</th>\n",
       "      <th>bathrooms</th>\n",
       "      <th>sqft_living</th>\n",
       "      <th>sqft_lot</th>\n",
       "      <th>floors</th>\n",
       "      <th>waterfront</th>\n",
       "      <th>view</th>\n",
       "      <th>condition</th>\n",
       "      <th>grade</th>\n",
       "      <th>sqft_above</th>\n",
       "      <th>...</th>\n",
       "      <th>view cubed</th>\n",
       "      <th>condition cubed</th>\n",
       "      <th>grade cubed</th>\n",
       "      <th>sqft_above cubed</th>\n",
       "      <th>sqft_basement cubed</th>\n",
       "      <th>yr_built cubed</th>\n",
       "      <th>yr_renovated cubed</th>\n",
       "      <th>zipcode cubed</th>\n",
       "      <th>sqft_living15 cubed</th>\n",
       "      <th>sqft_lot15 cubed</th>\n",
       "    </tr>\n",
       "  </thead>\n",
       "  <tbody>\n",
       "    <tr>\n",
       "      <th>0</th>\n",
       "      <td>3</td>\n",
       "      <td>1.00</td>\n",
       "      <td>1180</td>\n",
       "      <td>5650</td>\n",
       "      <td>1.0</td>\n",
       "      <td>0</td>\n",
       "      <td>0</td>\n",
       "      <td>3</td>\n",
       "      <td>7</td>\n",
       "      <td>1180</td>\n",
       "      <td>...</td>\n",
       "      <td>0</td>\n",
       "      <td>27</td>\n",
       "      <td>343</td>\n",
       "      <td>1643032000</td>\n",
       "      <td>0</td>\n",
       "      <td>7472058875</td>\n",
       "      <td>0</td>\n",
       "      <td>946329856735752</td>\n",
       "      <td>2406104000</td>\n",
       "      <td>180362125000</td>\n",
       "    </tr>\n",
       "    <tr>\n",
       "      <th>1</th>\n",
       "      <td>3</td>\n",
       "      <td>2.25</td>\n",
       "      <td>2570</td>\n",
       "      <td>7242</td>\n",
       "      <td>2.0</td>\n",
       "      <td>0</td>\n",
       "      <td>0</td>\n",
       "      <td>3</td>\n",
       "      <td>7</td>\n",
       "      <td>2170</td>\n",
       "      <td>...</td>\n",
       "      <td>0</td>\n",
       "      <td>27</td>\n",
       "      <td>343</td>\n",
       "      <td>10218313000</td>\n",
       "      <td>64000000</td>\n",
       "      <td>7426288351</td>\n",
       "      <td>7892485271</td>\n",
       "      <td>944798095703125</td>\n",
       "      <td>4826809000</td>\n",
       "      <td>445768658119</td>\n",
       "    </tr>\n",
       "    <tr>\n",
       "      <th>2</th>\n",
       "      <td>2</td>\n",
       "      <td>1.00</td>\n",
       "      <td>770</td>\n",
       "      <td>10000</td>\n",
       "      <td>1.0</td>\n",
       "      <td>0</td>\n",
       "      <td>0</td>\n",
       "      <td>3</td>\n",
       "      <td>6</td>\n",
       "      <td>770</td>\n",
       "      <td>...</td>\n",
       "      <td>0</td>\n",
       "      <td>27</td>\n",
       "      <td>216</td>\n",
       "      <td>456533000</td>\n",
       "      <td>0</td>\n",
       "      <td>7222633237</td>\n",
       "      <td>0</td>\n",
       "      <td>941998966517952</td>\n",
       "      <td>20123648000</td>\n",
       "      <td>523996494328</td>\n",
       "    </tr>\n",
       "    <tr>\n",
       "      <th>3</th>\n",
       "      <td>4</td>\n",
       "      <td>3.00</td>\n",
       "      <td>1960</td>\n",
       "      <td>5000</td>\n",
       "      <td>1.0</td>\n",
       "      <td>0</td>\n",
       "      <td>0</td>\n",
       "      <td>5</td>\n",
       "      <td>7</td>\n",
       "      <td>1050</td>\n",
       "      <td>...</td>\n",
       "      <td>0</td>\n",
       "      <td>125</td>\n",
       "      <td>343</td>\n",
       "      <td>1157625000</td>\n",
       "      <td>753571000</td>\n",
       "      <td>7587307125</td>\n",
       "      <td>0</td>\n",
       "      <td>945115872339456</td>\n",
       "      <td>2515456000</td>\n",
       "      <td>125000000000</td>\n",
       "    </tr>\n",
       "    <tr>\n",
       "      <th>4</th>\n",
       "      <td>3</td>\n",
       "      <td>2.00</td>\n",
       "      <td>1680</td>\n",
       "      <td>8080</td>\n",
       "      <td>1.0</td>\n",
       "      <td>0</td>\n",
       "      <td>0</td>\n",
       "      <td>3</td>\n",
       "      <td>8</td>\n",
       "      <td>1680</td>\n",
       "      <td>...</td>\n",
       "      <td>0</td>\n",
       "      <td>27</td>\n",
       "      <td>512</td>\n",
       "      <td>4741632000</td>\n",
       "      <td>0</td>\n",
       "      <td>7845011803</td>\n",
       "      <td>0</td>\n",
       "      <td>943325698349224</td>\n",
       "      <td>5832000000</td>\n",
       "      <td>422381452527</td>\n",
       "    </tr>\n",
       "  </tbody>\n",
       "</table>\n",
       "<p>5 rows × 48 columns</p>\n",
       "</div>"
      ]
     },
     "execution_count": 2,
     "metadata": {},
     "output_type": "execute_result"
    }
   ],
   "execution_count": 2
  },
  {
   "metadata": {},
   "cell_type": "markdown",
   "source": "# Feature Scaling\n",
   "id": "34ff916f0c2f3993"
  },
  {
   "metadata": {
    "ExecuteTime": {
     "end_time": "2025-02-04T23:17:53.883777Z",
     "start_time": "2025-02-04T23:17:53.871770Z"
    }
   },
   "cell_type": "code",
   "source": [
    "means = engineeredData.mean()\n",
    "stds = engineeredData.std()\n",
    "print(engineeredData[:5])\n",
    "for column in engineeredData.columns:\n",
    "    engineeredData[column] = engineeredData[column] - means[column]\n",
    "    engineeredData[column] = engineeredData[column] / stds[column]\n",
    "print(engineeredData[:5])"
   ],
   "id": "325bbca65634be68",
   "outputs": [
    {
     "name": "stdout",
     "output_type": "stream",
     "text": [
      "   bedrooms  bathrooms  sqft_living  sqft_lot  floors  waterfront  view  \\\n",
      "0         3       1.00         1180      5650     1.0           0     0   \n",
      "1         3       2.25         2570      7242     2.0           0     0   \n",
      "2         2       1.00          770     10000     1.0           0     0   \n",
      "3         4       3.00         1960      5000     1.0           0     0   \n",
      "4         3       2.00         1680      8080     1.0           0     0   \n",
      "\n",
      "   condition  grade  sqft_above  ...  view cubed  condition cubed  \\\n",
      "0          3      7        1180  ...           0               27   \n",
      "1          3      7        2170  ...           0               27   \n",
      "2          3      6         770  ...           0               27   \n",
      "3          5      7        1050  ...           0              125   \n",
      "4          3      8        1680  ...           0               27   \n",
      "\n",
      "   grade cubed  sqft_above cubed  sqft_basement cubed  yr_built cubed  \\\n",
      "0          343        1643032000                    0      7472058875   \n",
      "1          343       10218313000             64000000      7426288351   \n",
      "2          216         456533000                    0      7222633237   \n",
      "3          343        1157625000            753571000      7587307125   \n",
      "4          512        4741632000                    0      7845011803   \n",
      "\n",
      "   yr_renovated cubed    zipcode cubed  sqft_living15 cubed  sqft_lot15 cubed  \n",
      "0                   0  946329856735752           2406104000      180362125000  \n",
      "1          7892485271  944798095703125           4826809000      445768658119  \n",
      "2                   0  941998966517952          20123648000      523996494328  \n",
      "3                   0  945115872339456           2515456000      125000000000  \n",
      "4                   0  943325698349224           5832000000      422381452527  \n",
      "\n",
      "[5 rows x 48 columns]\n",
      "   bedrooms  bathrooms  sqft_living  sqft_lot    floors  waterfront      view  \\\n",
      "0 -0.398728  -1.447430    -0.979812 -0.228316 -0.915406   -0.087171 -0.305752   \n",
      "1 -0.398728   0.175603     0.533622 -0.189881  0.936484   -0.087171 -0.305752   \n",
      "2 -1.473925  -1.447430    -1.426221 -0.123296 -0.915406   -0.087171 -0.305752   \n",
      "3  0.676469   1.149422    -0.130547 -0.244009 -0.915406   -0.087171 -0.305752   \n",
      "4 -0.398728  -0.149004    -0.435412 -0.169649 -0.915406   -0.087171 -0.305752   \n",
      "\n",
      "   condition     grade  sqft_above  ...  view cubed  condition cubed  \\\n",
      "0  -0.629172 -0.558823   -0.734691  ...   -0.223045        -0.601600   \n",
      "1  -0.629172 -0.558823    0.460830  ...   -0.223045        -0.601600   \n",
      "2  -0.629172 -1.409554   -1.229805  ...   -0.223045        -0.601600   \n",
      "3   2.444237 -0.558823   -0.891678  ...   -0.223045         2.816657   \n",
      "4  -0.629172  0.291909   -0.130892  ...   -0.223045        -0.601600   \n",
      "\n",
      "   grade cubed  sqft_above cubed  sqft_basement cubed  yr_built cubed  \\\n",
      "0    -0.568657         -0.408494            -0.231516       -0.559087   \n",
      "1    -0.568657         -0.000089            -0.186998       -0.693691   \n",
      "2    -1.088617         -0.465002            -0.231516       -1.292606   \n",
      "3    -0.568657         -0.431612             0.292663       -0.220162   \n",
      "4     0.123258         -0.260921            -0.231516        0.537703   \n",
      "\n",
      "   yr_renovated cubed  zipcode cubed  sqft_living15 cubed  sqft_lot15 cubed  \n",
      "0           -0.210072       1.871057            -0.613582         -0.033812  \n",
      "1            4.720560       0.879229            -0.440668         -0.033772  \n",
      "2           -0.210072      -0.933230             0.652001         -0.033761  \n",
      "3           -0.210072       1.084992            -0.605771         -0.033821  \n",
      "4           -0.210072      -0.074160            -0.368866         -0.033776  \n",
      "\n",
      "[5 rows x 48 columns]\n"
     ]
    }
   ],
   "execution_count": 3
  },
  {
   "metadata": {},
   "cell_type": "markdown",
   "source": [
    "# Training Data\n",
    "We have split the data into two halves, the first half will be the training data. Matrix trainingSamples contains our examples. Each row is an example and each column is a feature. Vector trainingLabels contains the labels for our training set."
   ],
   "id": "54406b501ba1edb6"
  },
  {
   "metadata": {
    "ExecuteTime": {
     "end_time": "2025-02-04T23:17:53.909281Z",
     "start_time": "2025-02-04T23:17:53.905490Z"
    }
   },
   "cell_type": "code",
   "source": [
    "total_rows = len(engineeredData)\n",
    "trainingSetRows = total_rows // 2\n",
    "trainingSamples = engineeredData[0:trainingSetRows].copy()\n",
    "trainingLabels = labels[0:trainingSetRows].copy()\n",
    "\n",
    "print(f\"trainingSamples shape: {trainingSamples.shape}\")\n",
    "print(f\"trainingLabels shape: {trainingLabels.shape}\")"
   ],
   "id": "34515778d42bb7be",
   "outputs": [
    {
     "name": "stdout",
     "output_type": "stream",
     "text": [
      "trainingSamples shape: (10806, 48)\n",
      "trainingLabels shape: (10806,)\n"
     ]
    }
   ],
   "execution_count": 4
  },
  {
   "metadata": {},
   "cell_type": "markdown",
   "source": [
    "# Parameters\n",
    "Parameter vector w and param b\n"
   ],
   "id": "1e2c68feddff291b"
  },
  {
   "metadata": {
    "ExecuteTime": {
     "end_time": "2025-02-04T23:17:54.017727Z",
     "start_time": "2025-02-04T23:17:53.995667Z"
    }
   },
   "cell_type": "code",
   "source": [
    "b = 1\n",
    "w = np.random.random_sample(trainingSamples.shape[1])\n",
    "print(f\"w shape: {w.shape}\")\n",
    "print(f\"Initial cost: {compute_cost(trainingSamples.to_numpy(), trainingLabels.to_numpy(), w, b)}\")\n",
    "dj_dw, dj_db = compute_gradient(trainingSamples.to_numpy(), trainingLabels.to_numpy(), w, b)\n",
    "print(f\"Initial gradient dw:  {dj_dw})\")\n",
    "print(f\"Initial gradient db: {dj_db})\")"
   ],
   "id": "feaaba3eb9235724",
   "outputs": [
    {
     "name": "stdout",
     "output_type": "stream",
     "text": [
      "w shape: (48,)\n",
      "Initial cost: 210743099992.74374\n",
      "Initial gradient dw:  [-103588.54714449 -153861.90557635 -239721.61324219  -47833.40198391\n",
      "  -36566.51496498 -111839.77159528 -151507.7741336   -46279.24788148\n",
      " -211647.76625376 -194626.22003462 -133315.05618922   53748.41363224\n",
      "  -62254.74091292   19496.69465797 -204175.5356557   -40855.91353523\n",
      "  -68695.19000289 -178036.74462397 -263866.84629143  -22900.54518234\n",
      "  -28079.91288657 -111839.77159528 -149753.44348546  -46044.58142789\n",
      " -221681.36903167 -212961.30093207 -165007.4008586    53864.45386483\n",
      "  -62435.14248298   19499.19325976 -206860.31728943  -12389.48510398\n",
      "  -13176.97072059 -192427.53961487 -247825.82038591  -16191.45624177\n",
      "  -17528.17773166 -111839.77159528 -142977.14720679  -45728.73265539\n",
      " -229644.6723502  -215238.91153457 -159343.60575305   53981.88070357\n",
      "  -62609.38933133   19501.69227804 -198302.60074558   -6147.63955797])\n",
      "Initial gradient db: -531754.3590755543)\n"
     ]
    }
   ],
   "execution_count": 5
  },
  {
   "metadata": {},
   "cell_type": "markdown",
   "source": "",
   "id": "e07643f915022cf5"
  },
  {
   "metadata": {
    "ExecuteTime": {
     "end_time": "2025-02-04T23:22:16.564057Z",
     "start_time": "2025-02-04T23:21:55.865065Z"
    }
   },
   "cell_type": "code",
   "source": [
    "# Run gradient descent\n",
    "alpha = 5.0e-2\n",
    "iterations = 1_00_000\n",
    "w_final, b_final, j_history = gradient_descent(trainingSamples.to_numpy(), trainingLabels.to_numpy(), w, b, compute_cost, compute_gradient, alpha, iterations)\n",
    "print(f\"Final cost: {compute_cost(trainingSamples.to_numpy(), trainingLabels.to_numpy(), w_final, b_final)}\")\n"
   ],
   "id": "72142bf9cdf1b08",
   "outputs": [
    {
     "name": "stdout",
     "output_type": "stream",
     "text": [
      "Iteration    0: Cost 145794308935.67   \n",
      "Iteration  100: Cost 18999041355.62   \n",
      "Iteration  200: Cost 18825247469.03   \n",
      "Iteration  300: Cost 18744276263.05   \n",
      "Iteration  400: Cost 18697122029.50   \n",
      "Iteration  500: Cost 18666029584.20   \n",
      "Iteration  600: Cost 18643790676.44   \n",
      "Iteration  700: Cost 18626976784.55   \n",
      "Iteration  800: Cost 18613732778.05   \n",
      "Iteration  900: Cost 18602955274.23   \n",
      "Iteration 1000: Cost 18593943897.01   \n"
     ]
    },
    {
     "ename": "KeyboardInterrupt",
     "evalue": "",
     "output_type": "error",
     "traceback": [
      "\u001B[0;31m---------------------------------------------------------------------------\u001B[0m",
      "\u001B[0;31mKeyboardInterrupt\u001B[0m                         Traceback (most recent call last)",
      "Cell \u001B[0;32mIn[16], line 4\u001B[0m\n\u001B[1;32m      2\u001B[0m alpha \u001B[38;5;241m=\u001B[39m \u001B[38;5;241m9.0e-2\u001B[39m\n\u001B[1;32m      3\u001B[0m iterations \u001B[38;5;241m=\u001B[39m \u001B[38;5;241m10_000\u001B[39m\n\u001B[0;32m----> 4\u001B[0m w_final, b_final, j_history \u001B[38;5;241m=\u001B[39m gradient_descent(trainingSamples\u001B[38;5;241m.\u001B[39mto_numpy(), trainingLabels\u001B[38;5;241m.\u001B[39mto_numpy(), w, b, compute_cost, compute_gradient, alpha, iterations)\n\u001B[1;32m      5\u001B[0m \u001B[38;5;28mprint\u001B[39m(\u001B[38;5;124mf\u001B[39m\u001B[38;5;124m\"\u001B[39m\u001B[38;5;124mFinal cost: \u001B[39m\u001B[38;5;132;01m{\u001B[39;00mcompute_cost(trainingSamples\u001B[38;5;241m.\u001B[39mto_numpy(),\u001B[38;5;250m \u001B[39mtrainingLabels\u001B[38;5;241m.\u001B[39mto_numpy(),\u001B[38;5;250m \u001B[39mw_final,\u001B[38;5;250m \u001B[39mb_final)\u001B[38;5;132;01m}\u001B[39;00m\u001B[38;5;124m\"\u001B[39m)\n",
      "File \u001B[0;32m~/PycharmProjects/HouseSalesKingCounty/train.py:78\u001B[0m, in \u001B[0;36mgradient_descent\u001B[0;34m(X, y, w_initial, b_initial, cost_function, gradient_function, alpha, num_iterations)\u001B[0m\n\u001B[1;32m     76\u001B[0m b \u001B[38;5;241m=\u001B[39m b_initial\n\u001B[1;32m     77\u001B[0m \u001B[38;5;28;01mfor\u001B[39;00m i \u001B[38;5;129;01min\u001B[39;00m \u001B[38;5;28mrange\u001B[39m(num_iterations):\n\u001B[0;32m---> 78\u001B[0m     dj_dw, dj_db \u001B[38;5;241m=\u001B[39m gradient_function(X, y, w, b)\n\u001B[1;32m     79\u001B[0m     w \u001B[38;5;241m=\u001B[39m w \u001B[38;5;241m-\u001B[39m alpha \u001B[38;5;241m*\u001B[39m dj_dw\n\u001B[1;32m     80\u001B[0m     b \u001B[38;5;241m=\u001B[39m b \u001B[38;5;241m-\u001B[39m alpha \u001B[38;5;241m*\u001B[39m dj_db\n",
      "File \u001B[0;32m~/PycharmProjects/HouseSalesKingCounty/train.py:46\u001B[0m, in \u001B[0;36mcompute_gradient\u001B[0;34m(X, y, w, b)\u001B[0m\n\u001B[1;32m     43\u001B[0m dj_db \u001B[38;5;241m=\u001B[39m \u001B[38;5;241m0.0\u001B[39m\n\u001B[1;32m     45\u001B[0m \u001B[38;5;28;01mfor\u001B[39;00m i \u001B[38;5;129;01min\u001B[39;00m \u001B[38;5;28mrange\u001B[39m(m):\n\u001B[0;32m---> 46\u001B[0m     error \u001B[38;5;241m=\u001B[39m (np\u001B[38;5;241m.\u001B[39mdot(X[i], w) \u001B[38;5;241m+\u001B[39m b) \u001B[38;5;241m-\u001B[39m y[i]\n\u001B[1;32m     47\u001B[0m     dj_dw \u001B[38;5;241m=\u001B[39m dj_dw \u001B[38;5;241m+\u001B[39m error \u001B[38;5;241m*\u001B[39m X[i]\n\u001B[1;32m     48\u001B[0m     dj_db \u001B[38;5;241m=\u001B[39m dj_db \u001B[38;5;241m+\u001B[39m error\n",
      "\u001B[0;31mKeyboardInterrupt\u001B[0m: "
     ]
    }
   ],
   "execution_count": 16
  },
  {
   "metadata": {},
   "cell_type": "markdown",
   "source": "# Plotting cost vs iterations\n",
   "id": "424ca4233995e792"
  },
  {
   "metadata": {
    "ExecuteTime": {
     "end_time": "2025-02-04T23:18:34.962616Z",
     "start_time": "2025-02-04T23:18:34.866718Z"
    }
   },
   "cell_type": "code",
   "source": [
    "\n",
    "\n",
    "fig, (ax1, ax2) = plt.subplots(1, 2, constrained_layout=True, figsize=(12, 4))\n",
    "ax1.plot(j_history)\n",
    "ax2.plot(100 + np.arange(len(j_history[100:])), j_history[100:])\n",
    "ax1.set_title(\"Cost vs. iteration\");  ax2.set_title(\"Cost vs. iteration (tail)\")\n",
    "ax1.set_ylabel('Cost')             ;  ax2.set_ylabel('Cost')\n",
    "ax1.set_xlabel('iteration step')   ;  ax2.set_xlabel('iteration step')\n",
    "plt.show()"
   ],
   "id": "421e14db5b893730",
   "outputs": [
    {
     "data": {
      "text/plain": [
       "<Figure size 1200x400 with 2 Axes>"
      ],
      "image/png": "[encoded data removed]"
     },
     "metadata": {},
     "output_type": "display_data"
    }
   ],
   "execution_count": 8
  },
  {
   "metadata": {
    "ExecuteTime": {
     "end_time": "2025-02-04T23:18:09.386494030Z",
     "start_time": "2025-02-04T23:16:52.869745Z"
    }
   },
   "cell_type": "code",
   "source": "print(f\"w final: {w_final}\")",
   "id": "c43620b6c2bd7d99",
   "outputs": [
    {
     "name": "stdout",
     "output_type": "stream",
     "text": [
      "w final: [0.394661   0.14233317 0.07262841 0.9280058  0.6263197  0.82302627\n",
      " 0.69373616 0.89761604 0.79741127 0.39844517 0.5998952  0.14857109\n",
      " 0.20235587 0.43484294 0.29755299 0.4270407  0.08191198 0.68199987\n",
      " 0.48783926 0.83607193 0.17811002 0.84149015 0.65313733 0.5111398\n",
      " 0.54553884 0.05980964 0.59154379 0.41180614 0.82188982 0.00874742\n",
      " 0.28355517 0.09363133 0.60456185 0.80985035 0.76451037 0.86484889\n",
      " 0.20550918 0.36626876 0.42560633 0.44237069 0.84025117 0.82931412\n",
      " 0.79419338 0.2083357  0.45759314 0.15421256 0.47619994 0.88201613]\n"
     ]
    }
   ],
   "execution_count": 8
  }
 ],
 "metadata": {
  "kernelspec": {
   "display_name": "Python 3",
   "language": "python",
   "name": "python3"
  },
  "language_info": {
   "codemirror_mode": {
    "name": "ipython",
    "version": 2
   },
   "file_extension": ".py",
   "mimetype": "text/x-python",
   "name": "python",
   "nbconvert_exporter": "python",
   "pygments_lexer": "ipython2",
   "version": "2.7.6"
  }
 },
 "nbformat": 4,
 "nbformat_minor": 5
}
