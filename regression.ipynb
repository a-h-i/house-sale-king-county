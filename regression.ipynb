{
 "cells": [
  {
   "metadata": {},
   "cell_type": "markdown",
   "source": [
    "# Housing prices for King County\n",
    "\n",
    "Training a simple polynomial model on Hosing Sale data from king country [data source](https://www.kaggle.com/datasets/harlfoxem/housesalesprediction)\n",
    "As a learning exercise"
   ],
   "id": "8a77807f92f26ee"
  },
  {
   "metadata": {
    "ExecuteTime": {
     "end_time": "2025-02-04T21:22:11.538245Z",
     "start_time": "2025-02-04T21:22:11.380518Z"
    }
   },
   "cell_type": "code",
   "source": [
    "from utils import load_data\n",
    "from train import compute_cost, compute_gradient, gradient_descent\n",
    "import numpy as np\n",
    "import pandas as pd\n",
    "# Data is a pandas DataFrame\n",
    "data = load_data.load_data(\"./data/kc_house_data.csv\")\n"
   ],
   "id": "fbc121e30a2defb3",
   "outputs": [],
   "execution_count": 1
  },
  {
   "metadata": {},
   "cell_type": "markdown",
   "source": [
    "# Feature Engineering\n",
    "Housing prices do not tend to be linear but curve like, thus we will be engineering some polynomial features"
   ],
   "id": "c0b5cece06f2f50e"
  },
  {
   "metadata": {
    "ExecuteTime": {
     "end_time": "2025-02-04T21:22:11.617506Z",
     "start_time": "2025-02-04T21:22:11.598793Z"
    }
   },
   "cell_type": "code",
   "source": [
    "labels = data['price']\n",
    "data.drop('price', axis=1, inplace=True)\n",
    "data.drop('date', axis=1, inplace=True)\n",
    "dataSquared = data.pow(2)\n",
    "dataSquared.rename(lambda c: f\"{c} squared\", inplace=True, axis='columns')\n",
    "\n",
    "dataCubed = data.pow(3)\n",
    "dataCubed.rename(lambda c: f\"{c} cubed\", inplace=True, axis='columns')\n",
    "\n",
    "engineeredData = data.join(dataSquared).join(dataCubed)\n",
    "\n",
    "engineeredData[0:5]"
   ],
   "id": "5fb51494d8c0f93e",
   "outputs": [
    {
     "data": {
      "text/plain": [
       "           id  bedrooms  bathrooms  sqft_living  sqft_lot  floors  waterfront  \\\n",
       "0  7129300520         3       1.00         1180      5650     1.0           0   \n",
       "1  6414100192         3       2.25         2570      7242     2.0           0   \n",
       "2  5631500400         2       1.00          770     10000     1.0           0   \n",
       "3  2487200875         4       3.00         1960      5000     1.0           0   \n",
       "4  1954400510         3       2.00         1680      8080     1.0           0   \n",
       "\n",
       "   view  condition  grade  ...  grade cubed  sqft_above cubed  \\\n",
       "0     0          3      7  ...          343        1643032000   \n",
       "1     0          3      7  ...          343       10218313000   \n",
       "2     0          3      6  ...          216         456533000   \n",
       "3     0          5      7  ...          343        1157625000   \n",
       "4     0          3      8  ...          512        4741632000   \n",
       "\n",
       "   sqft_basement cubed  yr_built cubed  yr_renovated cubed    zipcode cubed  \\\n",
       "0                    0      7472058875                   0  946329856735752   \n",
       "1             64000000      7426288351          7892485271  944798095703125   \n",
       "2                    0      7222633237                   0  941998966517952   \n",
       "3            753571000      7587307125                   0  945115872339456   \n",
       "4                    0      7845011803                   0  943325698349224   \n",
       "\n",
       "       lat cubed    long cubed  sqft_living15 cubed  sqft_lot15 cubed  \n",
       "0  107247.702877 -1.827348e+06           2406104000      180362125000  \n",
       "1  108674.739386 -1.830129e+06           4826809000      445768658119  \n",
       "2  108790.239078 -1.826272e+06          20123648000      523996494328  \n",
       "3  107312.726660 -1.833453e+06           2515456000      125000000000  \n",
       "4  107964.410613 -1.817858e+06           5832000000      422381452527  \n",
       "\n",
       "[5 rows x 57 columns]"
      ],
      "text/html": [
       "<div>\n",
       "<style scoped>\n",
       "    .dataframe tbody tr th:only-of-type {\n",
       "        vertical-align: middle;\n",
       "    }\n",
       "\n",
       "    .dataframe tbody tr th {\n",
       "        vertical-align: top;\n",
       "    }\n",
       "\n",
       "    .dataframe thead th {\n",
       "        text-align: right;\n",
       "    }\n",
       "</style>\n",
       "<table border=\"1\" class=\"dataframe\">\n",
       "  <thead>\n",
       "    <tr style=\"text-align: right;\">\n",
       "      <th></th>\n",
       "      <th>id</th>\n",
       "      <th>bedrooms</th>\n",
       "      <th>bathrooms</th>\n",
       "      <th>sqft_living</th>\n",
       "      <th>sqft_lot</th>\n",
       "      <th>floors</th>\n",
       "      <th>waterfront</th>\n",
       "      <th>view</th>\n",
       "      <th>condition</th>\n",
       "      <th>grade</th>\n",
       "      <th>...</th>\n",
       "      <th>grade cubed</th>\n",
       "      <th>sqft_above cubed</th>\n",
       "      <th>sqft_basement cubed</th>\n",
       "      <th>yr_built cubed</th>\n",
       "      <th>yr_renovated cubed</th>\n",
       "      <th>zipcode cubed</th>\n",
       "      <th>lat cubed</th>\n",
       "      <th>long cubed</th>\n",
       "      <th>sqft_living15 cubed</th>\n",
       "      <th>sqft_lot15 cubed</th>\n",
       "    </tr>\n",
       "  </thead>\n",
       "  <tbody>\n",
       "    <tr>\n",
       "      <th>0</th>\n",
       "      <td>7129300520</td>\n",
       "      <td>3</td>\n",
       "      <td>1.00</td>\n",
       "      <td>1180</td>\n",
       "      <td>5650</td>\n",
       "      <td>1.0</td>\n",
       "      <td>0</td>\n",
       "      <td>0</td>\n",
       "      <td>3</td>\n",
       "      <td>7</td>\n",
       "      <td>...</td>\n",
       "      <td>343</td>\n",
       "      <td>1643032000</td>\n",
       "      <td>0</td>\n",
       "      <td>7472058875</td>\n",
       "      <td>0</td>\n",
       "      <td>946329856735752</td>\n",
       "      <td>107247.702877</td>\n",
       "      <td>-1.827348e+06</td>\n",
       "      <td>2406104000</td>\n",
       "      <td>180362125000</td>\n",
       "    </tr>\n",
       "    <tr>\n",
       "      <th>1</th>\n",
       "      <td>6414100192</td>\n",
       "      <td>3</td>\n",
       "      <td>2.25</td>\n",
       "      <td>2570</td>\n",
       "      <td>7242</td>\n",
       "      <td>2.0</td>\n",
       "      <td>0</td>\n",
       "      <td>0</td>\n",
       "      <td>3</td>\n",
       "      <td>7</td>\n",
       "      <td>...</td>\n",
       "      <td>343</td>\n",
       "      <td>10218313000</td>\n",
       "      <td>64000000</td>\n",
       "      <td>7426288351</td>\n",
       "      <td>7892485271</td>\n",
       "      <td>944798095703125</td>\n",
       "      <td>108674.739386</td>\n",
       "      <td>-1.830129e+06</td>\n",
       "      <td>4826809000</td>\n",
       "      <td>445768658119</td>\n",
       "    </tr>\n",
       "    <tr>\n",
       "      <th>2</th>\n",
       "      <td>5631500400</td>\n",
       "      <td>2</td>\n",
       "      <td>1.00</td>\n",
       "      <td>770</td>\n",
       "      <td>10000</td>\n",
       "      <td>1.0</td>\n",
       "      <td>0</td>\n",
       "      <td>0</td>\n",
       "      <td>3</td>\n",
       "      <td>6</td>\n",
       "      <td>...</td>\n",
       "      <td>216</td>\n",
       "      <td>456533000</td>\n",
       "      <td>0</td>\n",
       "      <td>7222633237</td>\n",
       "      <td>0</td>\n",
       "      <td>941998966517952</td>\n",
       "      <td>108790.239078</td>\n",
       "      <td>-1.826272e+06</td>\n",
       "      <td>20123648000</td>\n",
       "      <td>523996494328</td>\n",
       "    </tr>\n",
       "    <tr>\n",
       "      <th>3</th>\n",
       "      <td>2487200875</td>\n",
       "      <td>4</td>\n",
       "      <td>3.00</td>\n",
       "      <td>1960</td>\n",
       "      <td>5000</td>\n",
       "      <td>1.0</td>\n",
       "      <td>0</td>\n",
       "      <td>0</td>\n",
       "      <td>5</td>\n",
       "      <td>7</td>\n",
       "      <td>...</td>\n",
       "      <td>343</td>\n",
       "      <td>1157625000</td>\n",
       "      <td>753571000</td>\n",
       "      <td>7587307125</td>\n",
       "      <td>0</td>\n",
       "      <td>945115872339456</td>\n",
       "      <td>107312.726660</td>\n",
       "      <td>-1.833453e+06</td>\n",
       "      <td>2515456000</td>\n",
       "      <td>125000000000</td>\n",
       "    </tr>\n",
       "    <tr>\n",
       "      <th>4</th>\n",
       "      <td>1954400510</td>\n",
       "      <td>3</td>\n",
       "      <td>2.00</td>\n",
       "      <td>1680</td>\n",
       "      <td>8080</td>\n",
       "      <td>1.0</td>\n",
       "      <td>0</td>\n",
       "      <td>0</td>\n",
       "      <td>3</td>\n",
       "      <td>8</td>\n",
       "      <td>...</td>\n",
       "      <td>512</td>\n",
       "      <td>4741632000</td>\n",
       "      <td>0</td>\n",
       "      <td>7845011803</td>\n",
       "      <td>0</td>\n",
       "      <td>943325698349224</td>\n",
       "      <td>107964.410613</td>\n",
       "      <td>-1.817858e+06</td>\n",
       "      <td>5832000000</td>\n",
       "      <td>422381452527</td>\n",
       "    </tr>\n",
       "  </tbody>\n",
       "</table>\n",
       "<p>5 rows × 57 columns</p>\n",
       "</div>"
      ]
     },
     "execution_count": 2,
     "metadata": {},
     "output_type": "execute_result"
    }
   ],
   "execution_count": 2
  },
  {
   "metadata": {},
   "cell_type": "markdown",
   "source": [
    "# Training Data\n",
    "We have split the data into two halves, the first half will be the training data. Matrix trainingSamples contains our examples. Each row is an example and each column is a feature. Vector trainingLabels contains the labels for our training set."
   ],
   "id": "54406b501ba1edb6"
  },
  {
   "metadata": {
    "ExecuteTime": {
     "end_time": "2025-02-04T21:22:11.675184Z",
     "start_time": "2025-02-04T21:22:11.671864Z"
    }
   },
   "cell_type": "code",
   "source": [
    "total_rows = len(engineeredData)\n",
    "trainingSetRows = total_rows // 2\n",
    "trainingSamples = engineeredData[0:trainingSetRows].copy()\n",
    "trainingLabels = labels[0:trainingSetRows].copy()\n",
    "\n",
    "print(f\"trainingSamples shape: {trainingSamples.shape}\")\n",
    "print(f\"trainingLabels shape: {trainingLabels.shape}\")"
   ],
   "id": "34515778d42bb7be",
   "outputs": [
    {
     "name": "stdout",
     "output_type": "stream",
     "text": [
      "trainingSamples shape: (10806, 57)\n",
      "trainingLabels shape: (10806,)\n"
     ]
    }
   ],
   "execution_count": 3
  },
  {
   "metadata": {},
   "cell_type": "markdown",
   "source": [
    "# Parameters\n",
    "Parameter vector w and param b\n"
   ],
   "id": "1e2c68feddff291b"
  },
  {
   "metadata": {
    "ExecuteTime": {
     "end_time": "2025-02-04T21:22:11.798529Z",
     "start_time": "2025-02-04T21:22:11.706046Z"
    }
   },
   "cell_type": "code",
   "source": [
    "b = 10\n",
    "w = np.random.random_sample(trainingSamples.shape[1])\n",
    "print(f\"w shape: {w.shape}\")\n",
    "print(f\"Initial cost: {compute_cost(trainingSamples.to_numpy(), trainingLabels.to_numpy(), w, b)}\")\n",
    "dj_dw, dj_db = compute_gradient(trainingSamples.to_numpy(), trainingLabels.to_numpy(), w, b)\n",
    "print(f\"Initial gradient dw:  {dj_dw})\")\n",
    "print(f\"Initial gradient db: {dj_db})\")"
   ],
   "id": "feaaba3eb9235724",
   "outputs": [
    {
     "name": "stdout",
     "output_type": "stream",
     "text": [
      "w shape: (57,)\n",
      "Initial cost: 3.6204407586940944e+37\n",
      "Initial gradient dw:  [-1.01350940e+26  1.10453257e+18  5.57476968e+17  6.06787941e+20\n",
      "  1.32407967e+22  4.55234863e+17  2.31946185e+15  1.05669589e+17\n",
      "  1.10693908e+18  2.33130982e+18  5.24204542e+20  8.25833990e+19\n",
      "  6.32418302e+20  9.04579185e+18  3.16168827e+22  1.53049125e+19\n",
      " -3.93966338e+19  5.29867740e+20  6.83084467e+21  1.98915098e+37\n",
      "  4.09059882e+18  1.03191003e+18  1.45224162e+24  7.52040189e+27\n",
      "  7.29536733e+17  2.31946185e+15  2.74814726e+17  3.95883626e+18\n",
      "  1.68835989e+19  1.09366486e+24  7.17053729e+22  1.24135693e+24\n",
      "  1.77482098e+22  3.10192429e+27  7.26873223e+20  4.81628843e+21\n",
      "  9.35270224e+23  1.02933791e+27  2.36759342e+37  1.64405390e+19\n",
      "  1.97299721e+18  5.61376891e+27  8.30618717e+33  1.32109054e+18\n",
      "  2.31946185e+15  6.94498057e+17  1.47677505e+19  1.22190739e+20\n",
      "  3.23091846e+27  1.28798719e+26  2.43715795e+27  3.48208600e+25\n",
      "  3.04329062e+32  3.45215630e+22 -5.88799049e+23  1.78763048e+27\n",
      "  2.80784347e+32])\n",
      "Initial gradient db: 3.22260434115058e+17)\n"
     ]
    }
   ],
   "execution_count": 4
  },
  {
   "metadata": {},
   "cell_type": "markdown",
   "source": "",
   "id": "e07643f915022cf5"
  },
  {
   "metadata": {
    "ExecuteTime": {
     "end_time": "2025-02-04T21:22:22.690890Z",
     "start_time": "2025-02-04T21:22:11.813673Z"
    }
   },
   "cell_type": "code",
   "source": [
    "# Run gradient descent\n",
    "alpha = 5.0e-7\n",
    "iterations = 1000\n",
    "w_final, b_final, j_history = gradient_descent(trainingSamples.to_numpy(), trainingLabels.to_numpy(), w, b, compute_cost, compute_gradient, alpha, iterations)\n",
    "print(f\"Final cost: {compute_cost(trainingSamples.to_numpy(), trainingLabels.to_numpy(), w_final, b_final)}\")\n"
   ],
   "id": "72142bf9cdf1b08",
   "outputs": [
    {
     "name": "stdout",
     "output_type": "stream",
     "text": [
      "Iteration    0: Cost 6336264941478872257916155644190177379718793109231761261082638185976575753493525172646234552337956864.00   \n"
     ]
    },
    {
     "name": "stderr",
     "output_type": "stream",
     "text": [
      "/home/ahi/PycharmProjects/HouseSalesKingCounty/train.py:24: RuntimeWarning: overflow encountered in scalar power\n",
      "  cost += (f_wb - y[i]) ** 2\n",
      "/home/ahi/PycharmProjects/HouseSalesKingCounty/train.py:49: RuntimeWarning: overflow encountered in scalar multiply\n",
      "  dj_dw[j] = dj_dw[j] + error * X[i, j]\n",
      "/home/ahi/PycharmProjects/HouseSalesKingCounty/train.py:49: RuntimeWarning: invalid value encountered in scalar add\n",
      "  dj_dw[j] = dj_dw[j] + error * X[i, j]\n"
     ]
    },
    {
     "name": "stdout",
     "output_type": "stream",
     "text": [
      "Iteration   10: Cost      nan   \n",
      "Iteration   20: Cost      nan   \n",
      "Iteration   30: Cost      nan   \n",
      "Iteration   40: Cost      nan   \n",
      "Iteration   50: Cost      nan   \n",
      "Iteration   60: Cost      nan   \n",
      "Iteration   70: Cost      nan   \n",
      "Iteration   80: Cost      nan   \n",
      "Iteration   90: Cost      nan   \n",
      "Iteration  100: Cost      nan   \n",
      "Iteration  110: Cost      nan   \n",
      "Iteration  120: Cost      nan   \n"
     ]
    },
    {
     "ename": "KeyboardInterrupt",
     "evalue": "",
     "output_type": "error",
     "traceback": [
      "\u001B[0;31m---------------------------------------------------------------------------\u001B[0m",
      "\u001B[0;31mKeyboardInterrupt\u001B[0m                         Traceback (most recent call last)",
      "Cell \u001B[0;32mIn[5], line 4\u001B[0m\n\u001B[1;32m      2\u001B[0m alpha \u001B[38;5;241m=\u001B[39m \u001B[38;5;241m5.0e-7\u001B[39m\n\u001B[1;32m      3\u001B[0m iterations \u001B[38;5;241m=\u001B[39m \u001B[38;5;241m1000\u001B[39m\n\u001B[0;32m----> 4\u001B[0m w_final, b_final, j_history \u001B[38;5;241m=\u001B[39m gradient_descent(trainingSamples\u001B[38;5;241m.\u001B[39mto_numpy(), trainingLabels\u001B[38;5;241m.\u001B[39mto_numpy(), w, b, compute_cost, compute_gradient, alpha, iterations)\n\u001B[1;32m      5\u001B[0m \u001B[38;5;28mprint\u001B[39m(\u001B[38;5;124mf\u001B[39m\u001B[38;5;124m\"\u001B[39m\u001B[38;5;124mFinal cost: \u001B[39m\u001B[38;5;132;01m{\u001B[39;00mcompute_cost(trainingSamples\u001B[38;5;241m.\u001B[39mto_numpy(),\u001B[38;5;250m \u001B[39mtrainingLabels\u001B[38;5;241m.\u001B[39mto_numpy(),\u001B[38;5;250m \u001B[39mw_final,\u001B[38;5;250m \u001B[39mb_final)\u001B[38;5;132;01m}\u001B[39;00m\u001B[38;5;124m\"\u001B[39m)\n",
      "File \u001B[0;32m~/PycharmProjects/HouseSalesKingCounty/train.py:80\u001B[0m, in \u001B[0;36mgradient_descent\u001B[0;34m(X, y, w_initial, b_initial, cost_function, gradient_function, alpha, num_iterations)\u001B[0m\n\u001B[1;32m     78\u001B[0m b \u001B[38;5;241m=\u001B[39m b_initial\n\u001B[1;32m     79\u001B[0m \u001B[38;5;28;01mfor\u001B[39;00m i \u001B[38;5;129;01min\u001B[39;00m \u001B[38;5;28mrange\u001B[39m(num_iterations):\n\u001B[0;32m---> 80\u001B[0m     dj_dw, dj_db \u001B[38;5;241m=\u001B[39m gradient_function(X, y, w, b)\n\u001B[1;32m     81\u001B[0m     w \u001B[38;5;241m=\u001B[39m w \u001B[38;5;241m-\u001B[39m alpha \u001B[38;5;241m*\u001B[39m dj_dw\n\u001B[1;32m     82\u001B[0m     b \u001B[38;5;241m=\u001B[39m b \u001B[38;5;241m-\u001B[39m alpha \u001B[38;5;241m*\u001B[39m dj_db\n",
      "File \u001B[0;32m~/PycharmProjects/HouseSalesKingCounty/train.py:49\u001B[0m, in \u001B[0;36mcompute_gradient\u001B[0;34m(X, y, w, b)\u001B[0m\n\u001B[1;32m     47\u001B[0m     \u001B[38;5;66;03m# dj_dw = dj_dw + error * X[i]\u001B[39;00m\n\u001B[1;32m     48\u001B[0m     \u001B[38;5;28;01mfor\u001B[39;00m j \u001B[38;5;129;01min\u001B[39;00m \u001B[38;5;28mrange\u001B[39m(n):\n\u001B[0;32m---> 49\u001B[0m         dj_dw[j] \u001B[38;5;241m=\u001B[39m dj_dw[j] \u001B[38;5;241m+\u001B[39m error \u001B[38;5;241m*\u001B[39m X[i, j]\n\u001B[1;32m     50\u001B[0m     dj_db \u001B[38;5;241m=\u001B[39m dj_db \u001B[38;5;241m+\u001B[39m error\n\u001B[1;32m     51\u001B[0m dj_dw \u001B[38;5;241m=\u001B[39m dj_dw \u001B[38;5;241m/\u001B[39m m\n",
      "\u001B[0;31mKeyboardInterrupt\u001B[0m: "
     ]
    }
   ],
   "execution_count": 5
  }
 ],
 "metadata": {
  "kernelspec": {
   "display_name": "Python 3",
   "language": "python",
   "name": "python3"
  },
  "language_info": {
   "codemirror_mode": {
    "name": "ipython",
    "version": 2
   },
   "file_extension": ".py",
   "mimetype": "text/x-python",
   "name": "python",
   "nbconvert_exporter": "python",
   "pygments_lexer": "ipython2",
   "version": "2.7.6"
  }
 },
 "nbformat": 4,
 "nbformat_minor": 5
}
