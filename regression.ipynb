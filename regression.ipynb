{
 "cells": [
  {
   "cell_type": "markdown",
   "id": "8a77807f92f26ee",
   "metadata": {},
   "source": [
    "# Housing prices for King County\n",
    "\n",
    "Training a simple polynomial model on Hosing Sale data from king country [data source](https://www.kaggle.com/datasets/harlfoxem/housesalesprediction)\n",
    "As a learning exercise"
   ]
  },
  {
   "cell_type": "code",
   "execution_count": 1,
   "id": "fbc121e30a2defb3",
   "metadata": {
    "ExecuteTime": {
     "end_time": "2025-02-05T11:27:53.728942Z",
     "start_time": "2025-02-05T11:27:53.465659Z"
    }
   },
   "outputs": [],
   "source": [
    "from utils import load_data\n",
    "from train import gradient_descent\n",
    "from matplotlib import pyplot as plt\n",
    "import numpy as np\n",
    "import torch\n",
    "from tqdm import notebook\n",
    "import itertools"
   ]
  },
  {
   "cell_type": "code",
   "execution_count": 2,
   "id": "10fe7005",
   "metadata": {},
   "outputs": [],
   "source": [
    "device = 'mps'"
   ]
  },
  {
   "cell_type": "code",
   "execution_count": 3,
   "id": "f1b92417",
   "metadata": {},
   "outputs": [],
   "source": [
    "# Load data from csv into a pandas dataframe\n",
    "data = load_data.load_data(\"./data/kc_house_data.csv\")"
   ]
  },
  {
   "cell_type": "markdown",
   "id": "c0b5cece06f2f50e",
   "metadata": {},
   "source": [
    "# Feature Engineering\n",
    "Housing prices do not tend to be linear but curve like, thus we will be engineering some polynomial features"
   ]
  },
  {
   "cell_type": "code",
   "execution_count": 4,
   "id": "5fb51494d8c0f93e",
   "metadata": {
    "ExecuteTime": {
     "end_time": "2025-02-05T11:27:53.746101Z",
     "start_time": "2025-02-05T11:27:53.733276Z"
    }
   },
   "outputs": [
    {
     "data": {
      "text/html": [
       "<div>\n",
       "<style scoped>\n",
       "    .dataframe tbody tr th:only-of-type {\n",
       "        vertical-align: middle;\n",
       "    }\n",
       "\n",
       "    .dataframe tbody tr th {\n",
       "        vertical-align: top;\n",
       "    }\n",
       "\n",
       "    .dataframe thead th {\n",
       "        text-align: right;\n",
       "    }\n",
       "</style>\n",
       "<table border=\"1\" class=\"dataframe\">\n",
       "  <thead>\n",
       "    <tr style=\"text-align: right;\">\n",
       "      <th></th>\n",
       "      <th>bedrooms</th>\n",
       "      <th>bathrooms</th>\n",
       "      <th>sqft_living</th>\n",
       "      <th>sqft_lot</th>\n",
       "      <th>floors</th>\n",
       "      <th>waterfront</th>\n",
       "      <th>view</th>\n",
       "      <th>condition</th>\n",
       "      <th>grade</th>\n",
       "      <th>sqft_above</th>\n",
       "      <th>...</th>\n",
       "      <th>view squared</th>\n",
       "      <th>condition squared</th>\n",
       "      <th>grade squared</th>\n",
       "      <th>sqft_above squared</th>\n",
       "      <th>sqft_basement squared</th>\n",
       "      <th>yr_built squared</th>\n",
       "      <th>yr_renovated squared</th>\n",
       "      <th>zipcode squared</th>\n",
       "      <th>sqft_living15 squared</th>\n",
       "      <th>sqft_lot15 squared</th>\n",
       "    </tr>\n",
       "  </thead>\n",
       "  <tbody>\n",
       "    <tr>\n",
       "      <th>0</th>\n",
       "      <td>3</td>\n",
       "      <td>1.00</td>\n",
       "      <td>1180</td>\n",
       "      <td>5650</td>\n",
       "      <td>1.0</td>\n",
       "      <td>0</td>\n",
       "      <td>0</td>\n",
       "      <td>3</td>\n",
       "      <td>7</td>\n",
       "      <td>1180</td>\n",
       "      <td>...</td>\n",
       "      <td>0</td>\n",
       "      <td>9</td>\n",
       "      <td>49</td>\n",
       "      <td>1392400</td>\n",
       "      <td>0</td>\n",
       "      <td>3822025</td>\n",
       "      <td>0</td>\n",
       "      <td>9638919684</td>\n",
       "      <td>1795600</td>\n",
       "      <td>31922500</td>\n",
       "    </tr>\n",
       "    <tr>\n",
       "      <th>1</th>\n",
       "      <td>3</td>\n",
       "      <td>2.25</td>\n",
       "      <td>2570</td>\n",
       "      <td>7242</td>\n",
       "      <td>2.0</td>\n",
       "      <td>0</td>\n",
       "      <td>0</td>\n",
       "      <td>3</td>\n",
       "      <td>7</td>\n",
       "      <td>2170</td>\n",
       "      <td>...</td>\n",
       "      <td>0</td>\n",
       "      <td>9</td>\n",
       "      <td>49</td>\n",
       "      <td>4708900</td>\n",
       "      <td>160000</td>\n",
       "      <td>3806401</td>\n",
       "      <td>3964081</td>\n",
       "      <td>9628515625</td>\n",
       "      <td>2856100</td>\n",
       "      <td>58354321</td>\n",
       "    </tr>\n",
       "    <tr>\n",
       "      <th>2</th>\n",
       "      <td>2</td>\n",
       "      <td>1.00</td>\n",
       "      <td>770</td>\n",
       "      <td>10000</td>\n",
       "      <td>1.0</td>\n",
       "      <td>0</td>\n",
       "      <td>0</td>\n",
       "      <td>3</td>\n",
       "      <td>6</td>\n",
       "      <td>770</td>\n",
       "      <td>...</td>\n",
       "      <td>0</td>\n",
       "      <td>9</td>\n",
       "      <td>36</td>\n",
       "      <td>592900</td>\n",
       "      <td>0</td>\n",
       "      <td>3736489</td>\n",
       "      <td>0</td>\n",
       "      <td>9609488784</td>\n",
       "      <td>7398400</td>\n",
       "      <td>64995844</td>\n",
       "    </tr>\n",
       "    <tr>\n",
       "      <th>3</th>\n",
       "      <td>4</td>\n",
       "      <td>3.00</td>\n",
       "      <td>1960</td>\n",
       "      <td>5000</td>\n",
       "      <td>1.0</td>\n",
       "      <td>0</td>\n",
       "      <td>0</td>\n",
       "      <td>5</td>\n",
       "      <td>7</td>\n",
       "      <td>1050</td>\n",
       "      <td>...</td>\n",
       "      <td>0</td>\n",
       "      <td>25</td>\n",
       "      <td>49</td>\n",
       "      <td>1102500</td>\n",
       "      <td>828100</td>\n",
       "      <td>3861225</td>\n",
       "      <td>0</td>\n",
       "      <td>9630674496</td>\n",
       "      <td>1849600</td>\n",
       "      <td>25000000</td>\n",
       "    </tr>\n",
       "    <tr>\n",
       "      <th>4</th>\n",
       "      <td>3</td>\n",
       "      <td>2.00</td>\n",
       "      <td>1680</td>\n",
       "      <td>8080</td>\n",
       "      <td>1.0</td>\n",
       "      <td>0</td>\n",
       "      <td>0</td>\n",
       "      <td>3</td>\n",
       "      <td>8</td>\n",
       "      <td>1680</td>\n",
       "      <td>...</td>\n",
       "      <td>0</td>\n",
       "      <td>9</td>\n",
       "      <td>64</td>\n",
       "      <td>2822400</td>\n",
       "      <td>0</td>\n",
       "      <td>3948169</td>\n",
       "      <td>0</td>\n",
       "      <td>9618509476</td>\n",
       "      <td>3240000</td>\n",
       "      <td>56295009</td>\n",
       "    </tr>\n",
       "  </tbody>\n",
       "</table>\n",
       "<p>5 rows × 32 columns</p>\n",
       "</div>"
      ],
      "text/plain": [
       "   bedrooms  bathrooms  sqft_living  sqft_lot  floors  waterfront  view  \\\n",
       "0         3       1.00         1180      5650     1.0           0     0   \n",
       "1         3       2.25         2570      7242     2.0           0     0   \n",
       "2         2       1.00          770     10000     1.0           0     0   \n",
       "3         4       3.00         1960      5000     1.0           0     0   \n",
       "4         3       2.00         1680      8080     1.0           0     0   \n",
       "\n",
       "   condition  grade  sqft_above  ...  view squared  condition squared  \\\n",
       "0          3      7        1180  ...             0                  9   \n",
       "1          3      7        2170  ...             0                  9   \n",
       "2          3      6         770  ...             0                  9   \n",
       "3          5      7        1050  ...             0                 25   \n",
       "4          3      8        1680  ...             0                  9   \n",
       "\n",
       "   grade squared  sqft_above squared  sqft_basement squared  yr_built squared  \\\n",
       "0             49             1392400                      0           3822025   \n",
       "1             49             4708900                 160000           3806401   \n",
       "2             36              592900                      0           3736489   \n",
       "3             49             1102500                 828100           3861225   \n",
       "4             64             2822400                      0           3948169   \n",
       "\n",
       "   yr_renovated squared  zipcode squared  sqft_living15 squared  \\\n",
       "0                     0       9638919684                1795600   \n",
       "1               3964081       9628515625                2856100   \n",
       "2                     0       9609488784                7398400   \n",
       "3                     0       9630674496                1849600   \n",
       "4                     0       9618509476                3240000   \n",
       "\n",
       "   sqft_lot15 squared  \n",
       "0            31922500  \n",
       "1            58354321  \n",
       "2            64995844  \n",
       "3            25000000  \n",
       "4            56295009  \n",
       "\n",
       "[5 rows x 32 columns]"
      ]
     },
     "execution_count": 4,
     "metadata": {},
     "output_type": "execute_result"
    }
   ],
   "source": [
    "labels = data['price']\n",
    "data.drop(['price', 'date', 'id', 'lat', 'long'], axis=1, inplace=True)\n",
    "dataSquared = data.pow(2)\n",
    "dataSquared.rename(lambda c: f\"{c} squared\", inplace=True, axis='columns')\n",
    "\n",
    "dataCubed = data.pow(3)\n",
    "dataCubed.rename(lambda c: f\"{c} cubed\", inplace=True, axis='columns')\n",
    "\n",
    "# engineeredData = data.join(dataSquared).join(dataCubed)\n",
    "engineeredData = data.join(dataSquared)\n",
    "engineeredData.head(5)"
   ]
  },
  {
   "cell_type": "markdown",
   "id": "34ff916f0c2f3993",
   "metadata": {},
   "source": [
    "# Feature Scaling\n"
   ]
  },
  {
   "cell_type": "code",
   "execution_count": 5,
   "id": "325bbca65634be68",
   "metadata": {
    "ExecuteTime": {
     "end_time": "2025-02-05T11:27:53.804052Z",
     "start_time": "2025-02-05T11:27:53.794907Z"
    }
   },
   "outputs": [],
   "source": [
    "means = engineeredData.mean()\n",
    "stds = engineeredData.std()\n",
    "for column in engineeredData.columns:\n",
    "    engineeredData[column] = engineeredData[column] - means[column]\n",
    "    engineeredData[column] = engineeredData[column] / stds[column]\n"
   ]
  },
  {
   "cell_type": "markdown",
   "id": "54406b501ba1edb6",
   "metadata": {},
   "source": [
    "# Training Data\n",
    "We have split the data into two halves, the first half will be the training data. Matrix trainingSamples contains our examples. Each row is an example and each column is a feature. Vector trainingLabels contains the labels for our training set."
   ]
  },
  {
   "cell_type": "code",
   "execution_count": 6,
   "id": "34515778d42bb7be",
   "metadata": {
    "ExecuteTime": {
     "end_time": "2025-02-05T11:27:53.833585Z",
     "start_time": "2025-02-05T11:27:53.829441Z"
    }
   },
   "outputs": [
    {
     "name": "stdout",
     "output_type": "stream",
     "text": [
      "trainingSamples shape: (15129, 32)\n",
      "trainingLabels shape: (15129, 1)\n"
     ]
    }
   ],
   "source": [
    "total_rows = len(engineeredData)\n",
    "trainingSetRows = int(total_rows * 0.7)\n",
    "# TODO: Shuffle data before splitting train/test\n",
    "trainingSamples = engineeredData[:trainingSetRows].values\n",
    "trainingLabels = labels[:trainingSetRows].values[:, None]\n",
    "print(f\"trainingSamples shape: {trainingSamples.shape}\")\n",
    "print(f\"trainingLabels shape: {trainingLabels.shape}\")"
   ]
  },
  {
   "cell_type": "markdown",
   "id": "1e2c68feddff291b",
   "metadata": {},
   "source": [
    "# Parameters\n",
    "Parameter vector w and param b\n"
   ]
  },
  {
   "cell_type": "code",
   "execution_count": 7,
   "id": "ed76c725",
   "metadata": {},
   "outputs": [],
   "source": [
    "trainingSamples = torch.from_numpy(trainingSamples).to(torch.float32).to(device)\n",
    "trainingLabels = torch.from_numpy(trainingLabels).to(torch.float32).to(device)"
   ]
  },
  {
   "cell_type": "code",
   "execution_count": 8,
   "id": "7799bc49",
   "metadata": {},
   "outputs": [
    {
     "data": {
      "application/vnd.jupyter.widget-view+json": {
       "model_id": "7a0239d540d84979b1b5d96984cf12ab",
       "version_major": 2,
       "version_minor": 0
      },
      "text/plain": [
       "learning:   0%|          | 0/1000 [00:00<?, ?it/s]"
      ]
     },
     "metadata": {},
     "output_type": "display_data"
    }
   ],
   "source": [
    "alpha = 1e-2\n",
    "iterations = 1_000\n",
    "batch_size = 512\n",
    "model = torch.nn.Linear(trainingSamples.shape[1], 1, device=device)\n",
    "j_history = []\n",
    "optimizer = torch.optim.SGD(model.parameters(), alpha)\n",
    "loss_fn = torch.nn.MSELoss()\n",
    "for _ in (prog_bar := notebook.trange(iterations, desc=\"learning\")):\n",
    "    epoch_loss = []\n",
    "    for i in range(0, len(trainingLabels), batch_size):\n",
    "        X = trainingSamples[i:i+batch_size]\n",
    "        y = trainingLabels[i:i+batch_size]\n",
    "        optimizer.zero_grad()\n",
    "        prediction = model.forward(X)\n",
    "        loss = loss_fn.forward(prediction, y)\n",
    "        loss.backward()\n",
    "        optimizer.step()\n",
    "        epoch_loss.append(loss.item())\n",
    "    j_history.append(sum(epoch_loss) / len(epoch_loss))  # Save cost J at each iteration\n",
    "    prog_bar.set_description(f\"loss: {j_history[-1]:.2f}\")\n"
   ]
  },
  {
   "cell_type": "code",
   "execution_count": 10,
   "id": "b1b021c8",
   "metadata": {},
   "outputs": [
    {
     "data": {
      "application/vnd.jupyter.widget-view+json": {
       "model_id": "5238f947812546d4a3f2b2133afb770f",
       "version_major": 2,
       "version_minor": 0
      },
      "text/plain": [
       "learning:   0%|          | 0/1000 [00:00<?, ?it/s]"
      ]
     },
     "metadata": {},
     "output_type": "display_data"
    }
   ],
   "source": [
    "w, b, history2 = gradient_descent(trainingSamples, trainingLabels, alpha, iterations, batch_size)"
   ]
  },
  {
   "cell_type": "markdown",
   "id": "424ca4233995e792",
   "metadata": {},
   "source": [
    "# Plotting cost vs iterations\n"
   ]
  },
  {
   "cell_type": "code",
   "execution_count": 11,
   "id": "421e14db5b893730",
   "metadata": {
    "ExecuteTime": {
     "end_time": "2025-02-05T12:00:31.017631Z",
     "start_time": "2025-02-05T12:00:30.871027Z"
    }
   },
   "outputs": [
    {
     "data": {
      "image/png": "[encoded data removed]",
      "text/plain": [
       "<Figure size 1200x400 with 2 Axes>"
      ]
     },
     "metadata": {},
     "output_type": "display_data"
    }
   ],
   "source": [
    "fig, (ax1, ax2) = plt.subplots(1, 2, constrained_layout=True, figsize=(12, 4))\n",
    "ax1.plot(j_history)\n",
    "tail_length = 200\n",
    "ax2.plot(np.arange(tail_length, len(j_history)), j_history[tail_length:])\n",
    "ax1.set_title(\"Cost vs. iteration\");  ax2.set_title(\"Cost vs. iteration (tail)\")\n",
    "ax1.set_ylabel('Cost')             ;  ax2.set_ylabel('Cost')\n",
    "ax1.set_xlabel('iteration step')   ;  ax2.set_xlabel('iteration step')\n",
    "plt.show()"
   ]
  },
  {
   "cell_type": "code",
   "execution_count": 12,
   "id": "3de1a4a1",
   "metadata": {},
   "outputs": [
    {
     "data": {
      "image/png": "[encoded data removed]",
      "text/plain": [
       "<Figure size 1200x400 with 2 Axes>"
      ]
     },
     "metadata": {},
     "output_type": "display_data"
    }
   ],
   "source": [
    "fig, (ax1, ax2) = plt.subplots(1, 2, constrained_layout=True, figsize=(12, 4))\n",
    "ax1.plot(history2)\n",
    "tail_length = 200\n",
    "ax2.plot(np.arange(tail_length, len(history2)), history2[tail_length:])\n",
    "ax1.set_title(\"Cost vs. iteration\");  ax2.set_title(\"Cost vs. iteration (tail)\")\n",
    "ax1.set_ylabel('Cost')             ;  ax2.set_ylabel('Cost')\n",
    "ax1.set_xlabel('iteration step')   ;  ax2.set_xlabel('iteration step')\n",
    "plt.show()"
   ]
  },
  {
   "cell_type": "code",
   "execution_count": 13,
   "id": "c4d3363b",
   "metadata": {},
   "outputs": [
    {
     "name": "stdout",
     "output_type": "stream",
     "text": [
      "19928471532.100735\n"
     ]
    }
   ],
   "source": [
    "pred = model(trainingSamples)\n",
    "error = torch.square(pred - trainingLabels).sum().item() / (2 * len(pred))\n",
    "print(error)"
   ]
  },
  {
   "cell_type": "code",
   "execution_count": 14,
   "id": "e9497a33",
   "metadata": {},
   "outputs": [
    {
     "name": "stdout",
     "output_type": "stream",
     "text": [
      "19897933428.18058\n"
     ]
    }
   ],
   "source": [
    "pred = trainingSamples @ w + b\n",
    "error = torch.square(pred - trainingLabels).sum().item() / (2 * len(pred))\n",
    "print(error)"
   ]
  }
 ],
 "metadata": {
  "kernelspec": {
   "display_name": "env",
   "language": "python",
   "name": "python3"
  },
  "language_info": {
   "codemirror_mode": {
    "name": "ipython",
    "version": 3
   },
   "file_extension": ".py",
   "mimetype": "text/x-python",
   "name": "python",
   "nbconvert_exporter": "python",
   "pygments_lexer": "ipython3",
   "version": "3.12.7"
  }
 },
 "nbformat": 4,
 "nbformat_minor": 5
}
