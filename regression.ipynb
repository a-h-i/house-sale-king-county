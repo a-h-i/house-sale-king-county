{
 "cells": [
  {
   "metadata": {},
   "cell_type": "markdown",
   "source": [
    "# Housing prices for King County\n",
    "\n",
    "Training a simple polynomial model on Hosing Sale data from king country [data source](https://www.kaggle.com/datasets/harlfoxem/housesalesprediction)\n",
    "As a learning exercise"
   ],
   "id": "8a77807f92f26ee"
  },
  {
   "metadata": {
    "ExecuteTime": {
     "end_time": "2025-02-04T21:31:53.247355Z",
     "start_time": "2025-02-04T21:31:52.915894Z"
    }
   },
   "cell_type": "code",
   "source": [
    "from utils import load_data\n",
    "from train import compute_cost, compute_gradient, gradient_descent\n",
    "from matplotlib import pyplot as plt\n",
    "import numpy as np\n",
    "import pandas as pd\n",
    "# Data is a pandas DataFrame\n",
    "data = load_data.load_data(\"./data/kc_house_data.csv\")\n"
   ],
   "id": "fbc121e30a2defb3",
   "outputs": [],
   "execution_count": 2
  },
  {
   "metadata": {},
   "cell_type": "markdown",
   "source": [
    "# Feature Engineering\n",
    "Housing prices do not tend to be linear but curve like, thus we will be engineering some polynomial features"
   ],
   "id": "c0b5cece06f2f50e"
  },
  {
   "metadata": {
    "ExecuteTime": {
     "end_time": "2025-02-04T21:31:53.265923Z",
     "start_time": "2025-02-04T21:31:53.251230Z"
    }
   },
   "cell_type": "code",
   "source": [
    "labels = data['price']\n",
    "data.drop('price', axis=1, inplace=True)\n",
    "data.drop('date', axis=1, inplace=True)\n",
    "dataSquared = data.pow(2)\n",
    "dataSquared.rename(lambda c: f\"{c} squared\", inplace=True, axis='columns')\n",
    "\n",
    "dataCubed = data.pow(3)\n",
    "dataCubed.rename(lambda c: f\"{c} cubed\", inplace=True, axis='columns')\n",
    "\n",
    "engineeredData = data.join(dataSquared).join(dataCubed)\n",
    "\n",
    "engineeredData[0:5]"
   ],
   "id": "5fb51494d8c0f93e",
   "outputs": [
    {
     "data": {
      "text/plain": [
       "           id  bedrooms  bathrooms  sqft_living  sqft_lot  floors  waterfront  \\\n",
       "0  7129300520         3       1.00         1180      5650     1.0           0   \n",
       "1  6414100192         3       2.25         2570      7242     2.0           0   \n",
       "2  5631500400         2       1.00          770     10000     1.0           0   \n",
       "3  2487200875         4       3.00         1960      5000     1.0           0   \n",
       "4  1954400510         3       2.00         1680      8080     1.0           0   \n",
       "\n",
       "   view  condition  grade  ...  grade cubed  sqft_above cubed  \\\n",
       "0     0          3      7  ...          343        1643032000   \n",
       "1     0          3      7  ...          343       10218313000   \n",
       "2     0          3      6  ...          216         456533000   \n",
       "3     0          5      7  ...          343        1157625000   \n",
       "4     0          3      8  ...          512        4741632000   \n",
       "\n",
       "   sqft_basement cubed  yr_built cubed  yr_renovated cubed    zipcode cubed  \\\n",
       "0                    0      7472058875                   0  946329856735752   \n",
       "1             64000000      7426288351          7892485271  944798095703125   \n",
       "2                    0      7222633237                   0  941998966517952   \n",
       "3            753571000      7587307125                   0  945115872339456   \n",
       "4                    0      7845011803                   0  943325698349224   \n",
       "\n",
       "       lat cubed    long cubed  sqft_living15 cubed  sqft_lot15 cubed  \n",
       "0  107247.702877 -1.827348e+06           2406104000      180362125000  \n",
       "1  108674.739386 -1.830129e+06           4826809000      445768658119  \n",
       "2  108790.239078 -1.826272e+06          20123648000      523996494328  \n",
       "3  107312.726660 -1.833453e+06           2515456000      125000000000  \n",
       "4  107964.410613 -1.817858e+06           5832000000      422381452527  \n",
       "\n",
       "[5 rows x 57 columns]"
      ],
      "text/html": [
       "<div>\n",
       "<style scoped>\n",
       "    .dataframe tbody tr th:only-of-type {\n",
       "        vertical-align: middle;\n",
       "    }\n",
       "\n",
       "    .dataframe tbody tr th {\n",
       "        vertical-align: top;\n",
       "    }\n",
       "\n",
       "    .dataframe thead th {\n",
       "        text-align: right;\n",
       "    }\n",
       "</style>\n",
       "<table border=\"1\" class=\"dataframe\">\n",
       "  <thead>\n",
       "    <tr style=\"text-align: right;\">\n",
       "      <th></th>\n",
       "      <th>id</th>\n",
       "      <th>bedrooms</th>\n",
       "      <th>bathrooms</th>\n",
       "      <th>sqft_living</th>\n",
       "      <th>sqft_lot</th>\n",
       "      <th>floors</th>\n",
       "      <th>waterfront</th>\n",
       "      <th>view</th>\n",
       "      <th>condition</th>\n",
       "      <th>grade</th>\n",
       "      <th>...</th>\n",
       "      <th>grade cubed</th>\n",
       "      <th>sqft_above cubed</th>\n",
       "      <th>sqft_basement cubed</th>\n",
       "      <th>yr_built cubed</th>\n",
       "      <th>yr_renovated cubed</th>\n",
       "      <th>zipcode cubed</th>\n",
       "      <th>lat cubed</th>\n",
       "      <th>long cubed</th>\n",
       "      <th>sqft_living15 cubed</th>\n",
       "      <th>sqft_lot15 cubed</th>\n",
       "    </tr>\n",
       "  </thead>\n",
       "  <tbody>\n",
       "    <tr>\n",
       "      <th>0</th>\n",
       "      <td>7129300520</td>\n",
       "      <td>3</td>\n",
       "      <td>1.00</td>\n",
       "      <td>1180</td>\n",
       "      <td>5650</td>\n",
       "      <td>1.0</td>\n",
       "      <td>0</td>\n",
       "      <td>0</td>\n",
       "      <td>3</td>\n",
       "      <td>7</td>\n",
       "      <td>...</td>\n",
       "      <td>343</td>\n",
       "      <td>1643032000</td>\n",
       "      <td>0</td>\n",
       "      <td>7472058875</td>\n",
       "      <td>0</td>\n",
       "      <td>946329856735752</td>\n",
       "      <td>107247.702877</td>\n",
       "      <td>-1.827348e+06</td>\n",
       "      <td>2406104000</td>\n",
       "      <td>180362125000</td>\n",
       "    </tr>\n",
       "    <tr>\n",
       "      <th>1</th>\n",
       "      <td>6414100192</td>\n",
       "      <td>3</td>\n",
       "      <td>2.25</td>\n",
       "      <td>2570</td>\n",
       "      <td>7242</td>\n",
       "      <td>2.0</td>\n",
       "      <td>0</td>\n",
       "      <td>0</td>\n",
       "      <td>3</td>\n",
       "      <td>7</td>\n",
       "      <td>...</td>\n",
       "      <td>343</td>\n",
       "      <td>10218313000</td>\n",
       "      <td>64000000</td>\n",
       "      <td>7426288351</td>\n",
       "      <td>7892485271</td>\n",
       "      <td>944798095703125</td>\n",
       "      <td>108674.739386</td>\n",
       "      <td>-1.830129e+06</td>\n",
       "      <td>4826809000</td>\n",
       "      <td>445768658119</td>\n",
       "    </tr>\n",
       "    <tr>\n",
       "      <th>2</th>\n",
       "      <td>5631500400</td>\n",
       "      <td>2</td>\n",
       "      <td>1.00</td>\n",
       "      <td>770</td>\n",
       "      <td>10000</td>\n",
       "      <td>1.0</td>\n",
       "      <td>0</td>\n",
       "      <td>0</td>\n",
       "      <td>3</td>\n",
       "      <td>6</td>\n",
       "      <td>...</td>\n",
       "      <td>216</td>\n",
       "      <td>456533000</td>\n",
       "      <td>0</td>\n",
       "      <td>7222633237</td>\n",
       "      <td>0</td>\n",
       "      <td>941998966517952</td>\n",
       "      <td>108790.239078</td>\n",
       "      <td>-1.826272e+06</td>\n",
       "      <td>20123648000</td>\n",
       "      <td>523996494328</td>\n",
       "    </tr>\n",
       "    <tr>\n",
       "      <th>3</th>\n",
       "      <td>2487200875</td>\n",
       "      <td>4</td>\n",
       "      <td>3.00</td>\n",
       "      <td>1960</td>\n",
       "      <td>5000</td>\n",
       "      <td>1.0</td>\n",
       "      <td>0</td>\n",
       "      <td>0</td>\n",
       "      <td>5</td>\n",
       "      <td>7</td>\n",
       "      <td>...</td>\n",
       "      <td>343</td>\n",
       "      <td>1157625000</td>\n",
       "      <td>753571000</td>\n",
       "      <td>7587307125</td>\n",
       "      <td>0</td>\n",
       "      <td>945115872339456</td>\n",
       "      <td>107312.726660</td>\n",
       "      <td>-1.833453e+06</td>\n",
       "      <td>2515456000</td>\n",
       "      <td>125000000000</td>\n",
       "    </tr>\n",
       "    <tr>\n",
       "      <th>4</th>\n",
       "      <td>1954400510</td>\n",
       "      <td>3</td>\n",
       "      <td>2.00</td>\n",
       "      <td>1680</td>\n",
       "      <td>8080</td>\n",
       "      <td>1.0</td>\n",
       "      <td>0</td>\n",
       "      <td>0</td>\n",
       "      <td>3</td>\n",
       "      <td>8</td>\n",
       "      <td>...</td>\n",
       "      <td>512</td>\n",
       "      <td>4741632000</td>\n",
       "      <td>0</td>\n",
       "      <td>7845011803</td>\n",
       "      <td>0</td>\n",
       "      <td>943325698349224</td>\n",
       "      <td>107964.410613</td>\n",
       "      <td>-1.817858e+06</td>\n",
       "      <td>5832000000</td>\n",
       "      <td>422381452527</td>\n",
       "    </tr>\n",
       "  </tbody>\n",
       "</table>\n",
       "<p>5 rows × 57 columns</p>\n",
       "</div>"
      ]
     },
     "execution_count": 3,
     "metadata": {},
     "output_type": "execute_result"
    }
   ],
   "execution_count": 3
  },
  {
   "metadata": {},
   "cell_type": "markdown",
   "source": [
    "# Training Data\n",
    "We have split the data into two halves, the first half will be the training data. Matrix trainingSamples contains our examples. Each row is an example and each column is a feature. Vector trainingLabels contains the labels for our training set."
   ],
   "id": "54406b501ba1edb6"
  },
  {
   "metadata": {
    "ExecuteTime": {
     "end_time": "2025-02-04T21:31:53.312434Z",
     "start_time": "2025-02-04T21:31:53.309407Z"
    }
   },
   "cell_type": "code",
   "source": [
    "total_rows = len(engineeredData)\n",
    "trainingSetRows = total_rows // 2\n",
    "trainingSamples = engineeredData[0:trainingSetRows].copy()\n",
    "trainingLabels = labels[0:trainingSetRows].copy()\n",
    "\n",
    "print(f\"trainingSamples shape: {trainingSamples.shape}\")\n",
    "print(f\"trainingLabels shape: {trainingLabels.shape}\")"
   ],
   "id": "34515778d42bb7be",
   "outputs": [
    {
     "name": "stdout",
     "output_type": "stream",
     "text": [
      "trainingSamples shape: (10806, 57)\n",
      "trainingLabels shape: (10806,)\n"
     ]
    }
   ],
   "execution_count": 4
  },
  {
   "metadata": {},
   "cell_type": "markdown",
   "source": [
    "# Parameters\n",
    "Parameter vector w and param b\n"
   ],
   "id": "1e2c68feddff291b"
  },
  {
   "metadata": {
    "ExecuteTime": {
     "end_time": "2025-02-04T21:31:53.382813Z",
     "start_time": "2025-02-04T21:31:53.357034Z"
    }
   },
   "cell_type": "code",
   "source": [
    "b = 10\n",
    "w = np.random.random_sample(trainingSamples.shape[1])\n",
    "print(f\"w shape: {w.shape}\")\n",
    "print(f\"Initial cost: {compute_cost(trainingSamples.to_numpy(), trainingLabels.to_numpy(), w, b)}\")\n",
    "dj_dw, dj_db = compute_gradient(trainingSamples.to_numpy(), trainingLabels.to_numpy(), w, b)\n",
    "print(f\"Initial gradient dw:  {dj_dw})\")\n",
    "print(f\"Initial gradient db: {dj_db})\")"
   ],
   "id": "feaaba3eb9235724",
   "outputs": [
    {
     "name": "stdout",
     "output_type": "stream",
     "text": [
      "w shape: (57,)\n",
      "Initial cost: 1.4457443973737018e+36\n",
      "Initial gradient dw:  [-3.82554278e+25 -1.46563445e+16 -3.17593505e+16 -2.48559125e+19\n",
      "  1.70755765e+21 -7.38656052e+15  8.31157190e+14  2.93086779e+15\n",
      " -1.99676684e+16 -7.69632121e+16 -1.76581691e+19 -7.19774341e+18\n",
      " -1.28472916e+19 -2.53178727e+18 -6.22984550e+20 -3.05995885e+17\n",
      "  7.77018188e+17 -3.30144019e+19  3.49891846e+20  2.78799140e+35\n",
      " -3.02589020e+16 -1.08762296e+17 -7.31725539e+22  1.99202322e+27\n",
      " -8.62455515e+15  8.31157190e+14  8.62158047e+15 -5.41888747e+16\n",
      " -8.50899179e+17 -3.53469091e+22 -8.57048303e+21 -2.59123744e+22\n",
      " -5.09233896e+21 -6.09579552e+25 -1.47046042e+19 -9.48283469e+19\n",
      " -1.16517721e+23  1.74651784e+26  6.36689543e+36  1.32427658e+15\n",
      " -3.37388471e+17 -5.77518549e+25  2.67159156e+33 -8.13309058e+15\n",
      "  8.31157190e+14  8.71986321e+15 -1.08527343e+17 -9.03885497e+18\n",
      "  1.36732206e+25 -7.18653998e+24 -5.22416870e+25 -1.02435348e+25\n",
      " -5.96459997e+30 -7.06539721e+20  1.15729206e+22 -3.72773139e+26\n",
      "  8.94615416e+31])\n",
      "Initial gradient db: -6366811465169726.0)\n"
     ]
    }
   ],
   "execution_count": 5
  },
  {
   "metadata": {},
   "cell_type": "markdown",
   "source": "",
   "id": "e07643f915022cf5"
  },
  {
   "metadata": {
    "ExecuteTime": {
     "end_time": "2025-02-04T21:32:12.902355Z",
     "start_time": "2025-02-04T21:31:53.530329Z"
    }
   },
   "cell_type": "code",
   "source": [
    "# Run gradient descent\n",
    "alpha = 5.0e-7\n",
    "iterations = 1000\n",
    "w_final, b_final, j_history = gradient_descent(trainingSamples.to_numpy(), trainingLabels.to_numpy(), w, b, compute_cost, compute_gradient, alpha, iterations)\n",
    "print(f\"Final cost: {compute_cost(trainingSamples.to_numpy(), trainingLabels.to_numpy(), w_final, b_final)}\")\n"
   ],
   "id": "72142bf9cdf1b08",
   "outputs": [
    {
     "name": "stdout",
     "output_type": "stream",
     "text": [
      "Iteration    0: Cost 285601051605308800518563809344311753316329689901678257942727359982955121132577014920425066412900352.00   \n"
     ]
    },
    {
     "name": "stderr",
     "output_type": "stream",
     "text": [
      "/home/ahi/PycharmProjects/HouseSalesKingCounty/train.py:24: RuntimeWarning: overflow encountered in scalar power\n",
      "  cost += (f_wb - y[i]) ** 2\n",
      "/home/ahi/PycharmProjects/HouseSalesKingCounty/train.py:47: RuntimeWarning: overflow encountered in multiply\n",
      "  dj_dw = dj_dw + error * X[i]\n",
      "/home/ahi/PycharmProjects/HouseSalesKingCounty/train.py:47: RuntimeWarning: invalid value encountered in add\n",
      "  dj_dw = dj_dw + error * X[i]\n",
      "/home/ahi/PycharmProjects/HouseSalesKingCounty/train.py:47: RuntimeWarning: overflow encountered in add\n",
      "  dj_dw = dj_dw + error * X[i]\n"
     ]
    },
    {
     "name": "stdout",
     "output_type": "stream",
     "text": [
      "Iteration   10: Cost      nan   \n",
      "Iteration   20: Cost      nan   \n",
      "Iteration   30: Cost      nan   \n",
      "Iteration   40: Cost      nan   \n",
      "Iteration   50: Cost      nan   \n",
      "Iteration   60: Cost      nan   \n",
      "Iteration   70: Cost      nan   \n",
      "Iteration   80: Cost      nan   \n",
      "Iteration   90: Cost      nan   \n",
      "Iteration  100: Cost      nan   \n",
      "Iteration  110: Cost      nan   \n",
      "Iteration  120: Cost      nan   \n",
      "Iteration  130: Cost      nan   \n",
      "Iteration  140: Cost      nan   \n",
      "Iteration  150: Cost      nan   \n",
      "Iteration  160: Cost      nan   \n",
      "Iteration  170: Cost      nan   \n",
      "Iteration  180: Cost      nan   \n",
      "Iteration  190: Cost      nan   \n",
      "Iteration  200: Cost      nan   \n",
      "Iteration  210: Cost      nan   \n",
      "Iteration  220: Cost      nan   \n",
      "Iteration  230: Cost      nan   \n",
      "Iteration  240: Cost      nan   \n",
      "Iteration  250: Cost      nan   \n",
      "Iteration  260: Cost      nan   \n",
      "Iteration  270: Cost      nan   \n",
      "Iteration  280: Cost      nan   \n",
      "Iteration  290: Cost      nan   \n",
      "Iteration  300: Cost      nan   \n",
      "Iteration  310: Cost      nan   \n",
      "Iteration  320: Cost      nan   \n",
      "Iteration  330: Cost      nan   \n",
      "Iteration  340: Cost      nan   \n",
      "Iteration  350: Cost      nan   \n",
      "Iteration  360: Cost      nan   \n",
      "Iteration  370: Cost      nan   \n",
      "Iteration  380: Cost      nan   \n",
      "Iteration  390: Cost      nan   \n",
      "Iteration  400: Cost      nan   \n",
      "Iteration  410: Cost      nan   \n",
      "Iteration  420: Cost      nan   \n",
      "Iteration  430: Cost      nan   \n",
      "Iteration  440: Cost      nan   \n",
      "Iteration  450: Cost      nan   \n",
      "Iteration  460: Cost      nan   \n",
      "Iteration  470: Cost      nan   \n",
      "Iteration  480: Cost      nan   \n",
      "Iteration  490: Cost      nan   \n",
      "Iteration  500: Cost      nan   \n",
      "Iteration  510: Cost      nan   \n",
      "Iteration  520: Cost      nan   \n",
      "Iteration  530: Cost      nan   \n",
      "Iteration  540: Cost      nan   \n",
      "Iteration  550: Cost      nan   \n",
      "Iteration  560: Cost      nan   \n",
      "Iteration  570: Cost      nan   \n",
      "Iteration  580: Cost      nan   \n",
      "Iteration  590: Cost      nan   \n",
      "Iteration  600: Cost      nan   \n",
      "Iteration  610: Cost      nan   \n",
      "Iteration  620: Cost      nan   \n",
      "Iteration  630: Cost      nan   \n",
      "Iteration  640: Cost      nan   \n",
      "Iteration  650: Cost      nan   \n",
      "Iteration  660: Cost      nan   \n",
      "Iteration  670: Cost      nan   \n",
      "Iteration  680: Cost      nan   \n",
      "Iteration  690: Cost      nan   \n",
      "Iteration  700: Cost      nan   \n",
      "Iteration  710: Cost      nan   \n",
      "Iteration  720: Cost      nan   \n",
      "Iteration  730: Cost      nan   \n",
      "Iteration  740: Cost      nan   \n",
      "Iteration  750: Cost      nan   \n",
      "Iteration  760: Cost      nan   \n",
      "Iteration  770: Cost      nan   \n",
      "Iteration  780: Cost      nan   \n",
      "Iteration  790: Cost      nan   \n",
      "Iteration  800: Cost      nan   \n",
      "Iteration  810: Cost      nan   \n",
      "Iteration  820: Cost      nan   \n",
      "Iteration  830: Cost      nan   \n",
      "Iteration  840: Cost      nan   \n",
      "Iteration  850: Cost      nan   \n",
      "Iteration  860: Cost      nan   \n",
      "Iteration  870: Cost      nan   \n",
      "Iteration  880: Cost      nan   \n",
      "Iteration  890: Cost      nan   \n",
      "Iteration  900: Cost      nan   \n",
      "Iteration  910: Cost      nan   \n",
      "Iteration  920: Cost      nan   \n",
      "Iteration  930: Cost      nan   \n",
      "Iteration  940: Cost      nan   \n",
      "Iteration  950: Cost      nan   \n",
      "Iteration  960: Cost      nan   \n",
      "Iteration  970: Cost      nan   \n",
      "Iteration  980: Cost      nan   \n",
      "Iteration  990: Cost      nan   \n",
      "Final cost: nan\n"
     ]
    }
   ],
   "execution_count": 6
  },
  {
   "metadata": {},
   "cell_type": "markdown",
   "source": "# Plotting cost vs iterations\n",
   "id": "424ca4233995e792"
  },
  {
   "metadata": {
    "ExecuteTime": {
     "end_time": "2025-02-04T21:32:13.018558Z",
     "start_time": "2025-02-04T21:32:12.908973Z"
    }
   },
   "cell_type": "code",
   "source": [
    "\n",
    "\n",
    "fig, (ax1, ax2) = plt.subplots(1, 2, constrained_layout=True, figsize=(12, 4))\n",
    "ax1.plot(j_history)\n",
    "ax2.plot(100 + np.arange(len(j_history[100:])), j_history[100:])\n",
    "ax1.set_title(\"Cost vs. iteration\");  ax2.set_title(\"Cost vs. iteration (tail)\")\n",
    "ax1.set_ylabel('Cost')             ;  ax2.set_ylabel('Cost')\n",
    "ax1.set_xlabel('iteration step')   ;  ax2.set_xlabel('iteration step')\n",
    "plt.show()"
   ],
   "id": "421e14db5b893730",
   "outputs": [
    {
     "data": {
      "text/plain": [
       "<Figure size 1200x400 with 2 Axes>"
      ],
      "image/png": "[encoded data removed]"
     },
     "metadata": {},
     "output_type": "display_data"
    }
   ],
   "execution_count": 7
  }
 ],
 "metadata": {
  "kernelspec": {
   "display_name": "Python 3",
   "language": "python",
   "name": "python3"
  },
  "language_info": {
   "codemirror_mode": {
    "name": "ipython",
    "version": 2
   },
   "file_extension": ".py",
   "mimetype": "text/x-python",
   "name": "python",
   "nbconvert_exporter": "python",
   "pygments_lexer": "ipython2",
   "version": "2.7.6"
  }
 },
 "nbformat": 4,
 "nbformat_minor": 5
}
